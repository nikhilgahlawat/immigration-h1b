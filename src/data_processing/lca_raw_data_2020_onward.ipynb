{
 "cells": [
  {
   "cell_type": "markdown",
   "metadata": {},
   "source": [
    "# Labor Condition Applications (LCAs)\n",
    "## Import raw data for 2020 onward\n",
    "**Source:** [Department of Labor > Foreign Labor Certification > Performance Data](https://www.dol.gov/agencies/eta/foreign-labor/performance)  \n",
    "The first step in the H-1B visa program is for employers to submite a Labor Condition Application (LCA) providing information on the type of visa they are seeking, the occupation they are hiring for, the number of workers, the intended pay range, etc.  \n",
    "\n",
    "According to the DOL: \"Beginning in Fiscal Year 2020, the Program Record Layouts associated with each program disclosure file are substantially different from prior fiscal years and include a number of additional data fields extracted based on new visa application forms, appendices, and addenda implemented by OFLC through the new [Foreign Labor Application Gateway (FLAG) System](https://flag.dol.gov/?_ga=2.116320975.836097246.1711548631-607582160.1711058977).\"\n",
    "\n",
    "In this script, we'll import the files for 2020 onward. Pre-2020 files are handled in another script.\n",
    "\n",
    "The [DOL website](https://www.dol.gov/agencies/eta/foreign-labor/performance) also states that quarterly files are supposed to be cumulative within a fiscal year, i.e., the Q4 file should contain all cases from previous quarters in the same year.  \n",
    "However, we won't just import the Q4 files for a couple reasons:\n",
    " - Cases can appear in multiple years if submitted in one year and an action is taken in a following year (i.e. certified in one year but witdrawn in the following)\n",
    " - Preliminary exploratory analysis showed that some cases that appear in the files for quarters 1-3 do not show up in quarter 4 (even though they are certified) contrary to what the website says.  \n",
    "\n",
    "To address these issues, we'll import all files and deduplicate later."
   ]
  },
  {
   "cell_type": "code",
   "execution_count": null,
   "metadata": {},
   "outputs": [],
   "source": [
    "# Import packages\n",
    "import pandas as pd"
   ]
  },
  {
   "cell_type": "code",
   "execution_count": null,
   "metadata": {},
   "outputs": [],
   "source": [
    "# Set up parameters\n",
    "data_dir = '../../data/'\n",
    "output_dir = data_dir + 'raw/'\n",
    "output_filename_base = 'lca_raw_'\n",
    "base_url = 'https://www.dol.gov/sites/dolgov/files/ETA/oflc/pdfs/LCA_Disclosure_Data_FY'\n",
    "years = [2020, 2021, 2022, 2023]\n",
    "quarters = [1,2,3,4]\n",
    "\n",
    "# Standardize column names (some years use slightly different names)\n",
    "col_renames = {\n",
    "  'H-1B_DEPENDENT': 'H_1B_DEPENDENT',\n",
    "  'H1B_DEPENDENT': 'H_1B_DEPENDENT'\n",
    "  }"
   ]
  },
  {
   "cell_type": "markdown",
   "metadata": {},
   "source": [
    "We'll import only the relevant fields provided by the DOL"
   ]
  },
  {
   "cell_type": "code",
   "execution_count": null,
   "metadata": {},
   "outputs": [],
   "source": [
    "# LCA columns to import for 2020 and later\n",
    "# We'll import only the columns we'll need\n",
    "cols = [\n",
    "  'CASE_NUMBER',\n",
    "  'CASE_STATUS',\n",
    "  'RECEIVED_DATE',\n",
    "  'DECISION_DATE',\n",
    "  'ORIGINAL_CERT_DATE',\n",
    "  'VISA_CLASS',\n",
    "  'JOB_TITLE',\n",
    "  'SOC_CODE',\n",
    "  'SOC_TITLE',\n",
    "  'FULL_TIME_POSITION',\n",
    "  'BEGIN_DATE',\n",
    "  'END_DATE',\n",
    "  'TOTAL_WORKER_POSITIONS',\n",
    "  'NEW_EMPLOYMENT',\n",
    "  'CONTINUED_EMPLOYMENT',\n",
    "  'CHANGE_PREVIOUS_EMPLOYMENT',\n",
    "  'NEW_CONCURRENT_EMPLOYMENT',\n",
    "  'CHANGE_EMPLOYER',\n",
    "  'AMENDED_PETITION',\n",
    "  'EMPLOYER_NAME',\n",
    "  'TRADE_NAME_DBA',\n",
    "  'EMPLOYER_CITY',\n",
    "  'EMPLOYER_STATE',\n",
    "  'EMPLOYER_POSTAL_CODE',\n",
    "  'EMPLOYER_COUNTRY',\n",
    "  'EMPLOYER_PROVINCE',\n",
    "  'NAICS_CODE',\n",
    "  'WORKSITE_WORKERS',\n",
    "  'SECONDARY_ENTITY',\n",
    "  'SECONDARY_ENTITY_BUSINESS_NAME',\n",
    "  'WORKSITE_CITY',\n",
    "  'WORKSITE_COUNTY',\n",
    "  'WORKSITE_STATE',\n",
    "  'WORKSITE_POSTAL_CODE',\n",
    "  'WAGE_RATE_OF_PAY_FROM',\n",
    "  'WAGE_RATE_OF_PAY_TO',\n",
    "  'WAGE_UNIT_OF_PAY',\n",
    "  'PREVAILING_WAGE',\n",
    "  'PW_UNIT_OF_PAY',\n",
    "  'PW_TRACKING_NUMBER',\n",
    "  'PW_WAGE_LEVEL',\n",
    "  'PW_OES_YEAR',\n",
    "  'PW_OTHER_SOURCE',\n",
    "  'PW_OTHER_YEAR',\n",
    "  'PW_SURVEY_PUBLISHER',\n",
    "  'PW_SURVEY_NAME',\n",
    "  'TOTAL_WORKSITE_LOCATIONS',\n",
    "  # 'H_1B_DEPENDENT', # In some years this is H-1B_DEPENDENT. Adjust according to the year.\n",
    "  'WILLFUL_VIOLATOR',\n",
    "  'SUPPORT_H1B',\n",
    "  'STATUTORY_BASIS',\n",
    "]"
   ]
  },
  {
   "cell_type": "code",
   "execution_count": null,
   "metadata": {},
   "outputs": [],
   "source": [
    "int_cols = ['TOTAL_WORKER_POSITIONS', 'NEW_EMPLOYMENT', 'CONTINUED_EMPLOYMENT', 'CHANGE_PREVIOUS_EMPLOYMENT', 'NEW_CONCURRENT_EMPLOYMENT', 'CHANGE_EMPLOYER', 'AMENDED_PETITION']\n",
    "float_cols = ['WAGE_RATE_OF_PAY_FROM', 'WAGE_RATE_OF_PAY_TO', 'PREVAILING_WAGE']\n",
    "\n",
    "dtypes = {}\n",
    "for col in cols:\n",
    "  if col in int_cols:\n",
    "    dtypes[col] = int\n",
    "  elif col in float_cols:\n",
    "    dtypes[col] = float\n",
    "  else:\n",
    "    dtypes[col] = str"
   ]
  },
  {
   "cell_type": "markdown",
   "metadata": {},
   "source": [
    "Import the Excel files for each quarter. Note that the H-1B dependency column name can vary between files.  "
   ]
  },
  {
   "cell_type": "code",
   "execution_count": null,
   "metadata": {},
   "outputs": [],
   "source": [
    "# Import all data files\n",
    "for year in years:\n",
    "  dfyear = []\n",
    "  for quarter in quarters:\n",
    "    url = base_url + str(year) + '_Q' + str(quarter) + '.xlsx'\n",
    "    print('Importing ' + url)\n",
    "    \n",
    "    # Select the right format for the H-1B dependency column\n",
    "    if year >= 2022:\n",
    "      h1b_dep = 'H_1B_DEPENDENT'\n",
    "    elif year == 2020 or (year == 2021 and quarter in [2,4]):\n",
    "      h1b_dep = 'H-1B_DEPENDENT'\n",
    "    elif year == 2021 and quarter in [1,3]:\n",
    "      h1b_dep = 'H1B_DEPENDENT'\n",
    "    \n",
    "    # Update the columns to import and the data types\n",
    "    usecols = cols + [h1b_dep]\n",
    "    dtypes[h1b_dep] = str\n",
    "\n",
    "    # Import data\n",
    "    df = pd.read_excel(url, usecols=usecols, dtype=dtypes)\n",
    "\n",
    "    # Add additional reference fields and standardize column names\n",
    "    df['DATAFILE_YEAR'] = year\n",
    "    df['DATAFILE_QUARTER'] = quarter\n",
    "    df = df.rename(columns=col_renames)\n",
    "\n",
    "    # Stack all files within the same year together\n",
    "    dfyear.append(df)\n",
    "\n",
    "  # Save data locally\n",
    "  print('Saving data for ' + str(year))\n",
    "  pd.concat(dfyear).to_csv(output_dir + output_filename_base + str(year) + '.csv', index=False)"
   ]
  },
  {
   "cell_type": "code",
   "execution_count": null,
   "metadata": {},
   "outputs": [],
   "source": []
  }
 ],
 "metadata": {
  "kernelspec": {
   "display_name": "Python 3 (ipykernel)",
   "language": "python",
   "name": "python3"
  },
  "language_info": {
   "codemirror_mode": {
    "name": "ipython",
    "version": 3
   },
   "file_extension": ".py",
   "mimetype": "text/x-python",
   "name": "python",
   "nbconvert_exporter": "python",
   "pygments_lexer": "ipython3",
   "version": "3.12.2"
  }
 },
 "nbformat": 4,
 "nbformat_minor": 4
}
