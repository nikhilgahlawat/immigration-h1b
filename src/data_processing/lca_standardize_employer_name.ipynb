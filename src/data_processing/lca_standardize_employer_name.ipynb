{
 "cells": [
  {
   "cell_type": "markdown",
   "metadata": {},
   "source": [
    "# Labor Condition Applications (LCAs)\n",
    "## Standardize employer names  \n",
    "\n",
    "Since the data reflects exactly what the petitioner submits on DOL Labor Condition Applications [forms ETA-9035 & 9035E](https://www.uscis.gov/i-129), manually entered company names may differ slightly, e.g., \"Google\" and \"Google Inc.\", or \"Facebook\" and \"Meta Platforms\". Often a single company name will capture most of the petitions, but to be sure to include all petitions from some of the largest companies - and ones that we'll look into specifically later on - I created regex terms to search employer names so that slight variations are also included in the total petition counts. This method might accidentally include some false positives, inflating the total position count. But for the ~50 companies I checked, mis-identified companies were <1% of the total petitions. There's also a chance that this method may miss some company name variations.  "
   ]
  },
  {
   "cell_type": "code",
   "execution_count": 1,
   "metadata": {},
   "outputs": [],
   "source": [
    "# Import packages\n",
    "import pandas as pd\n",
    "import re\n",
    "from functools import lru_cache"
   ]
  },
  {
   "cell_type": "code",
   "execution_count": 2,
   "metadata": {},
   "outputs": [],
   "source": [
    "# Set up parameters\n",
    "data_dir = '../../data/'\n",
    "input_dir = data_dir + 'intermediate/'\n",
    "input_filename = 'lca_deduped.csv'\n",
    "output_dir = data_dir = 'intermediate/'\n",
    "output_filename = 'lca_standardized_employer_names.csv'\n",
    "parameters_dir = data_dir = 'parameters/'\n",
    "employer_params_filename = 'employer_params.csv'"
   ]
  },
  {
   "cell_type": "code",
   "execution_count": 3,
   "metadata": {},
   "outputs": [],
   "source": [
    "# Load LCA data, using only load the columns we'll need\n",
    "lca = pd.read_csv(input_dir + input_filename, dtype=str, usecols=['EMPLOYER_NAME', 'CASE_NUMBER'])"
   ]
  },
  {
   "cell_type": "code",
   "execution_count": 10,
   "metadata": {},
   "outputs": [],
   "source": [
    "# Load company-level parameters\n",
    "# This includes the regex patterns for each employer name\n",
    "employer_params = pd.read_csv(parameters_dir + employer_params_filename, index_col='employer')"
   ]
  },
  {
   "cell_type": "code",
   "execution_count": 5,
   "metadata": {},
   "outputs": [],
   "source": [
    "# Store the original employer name in a new column\n",
    "lca['EMPLOYER_NAME_RAW'] = lca['EMPLOYER_NAME']"
   ]
  },
  {
   "cell_type": "code",
   "execution_count": 6,
   "metadata": {
    "scrolled": true
   },
   "outputs": [],
   "source": [
    "# Create a dataframe of unique employer names\n",
    "# Store all case numbers for each employer as a list\n",
    "# employer_names = lca[['EMPLOYER_NAME', 'CASE_NUMBER']]\n",
    "# employer_names = employer_names.groupby('EMPLOYER_NAME', dropna=False)['CASE_NUMBER'].agg(list).reset_index()"
   ]
  },
  {
   "cell_type": "code",
   "execution_count": 12,
   "metadata": {},
   "outputs": [],
   "source": [
    "# Define a function to standardize company names for the top petitioners\n",
    "# The function compares the name provided on the form with a regex expression and returns a standardized company name if there is a match\n",
    "@lru_cache(maxsize=None)\n",
    "def standardize_employer_name(employer_name):\n",
    "  for standardized_name, search_term in employer_params.to_dict()['search_term'].items():\n",
    "    if pd.isna(employer_name):\n",
    "      return employer_name\n",
    "    if re.search(search_term, employer_name, flags=re.IGNORECASE):\n",
    "      return standardized_name\n",
    "  return employer_name"
   ]
  },
  {
   "cell_type": "code",
   "execution_count": 13,
   "metadata": {},
   "outputs": [],
   "source": [
    "# Standardize the employer names\n",
    "lca['EMPLOYER_NAME'] = lca['EMPLOYER_NAME_RAW'].apply(standardize_employer_name)"
   ]
  },
  {
   "cell_type": "code",
   "execution_count": 14,
   "metadata": {},
   "outputs": [
    {
     "name": "stdout",
     "output_type": "stream",
     "text": [
      "2,071,861 of 6,463,616 records (32.1%) have been standardized\n"
     ]
    }
   ],
   "source": [
    "n_total = lca.shape[0]\n",
    "n_standardized = lca[lca['EMPLOYER_NAME'] != lca['EMPLOYER_NAME_RAW']].shape[0]\n",
    "share_standardized = round(100 * n_standardized / n_total, 1)\n",
    "print(f'{n_standardized:,} of {n_total:,} records ({share_standardized}%) have been standardized')"
   ]
  },
  {
   "cell_type": "code",
   "execution_count": 15,
   "metadata": {},
   "outputs": [],
   "source": [
    "# Save file\n",
    "lca.to_csv(output_dir + output_filename, index=False)"
   ]
  },
  {
   "cell_type": "code",
   "execution_count": null,
   "metadata": {},
   "outputs": [],
   "source": []
  }
 ],
 "metadata": {
  "kernelspec": {
   "display_name": "Python 3 (ipykernel)",
   "language": "python",
   "name": "python3"
  },
  "language_info": {
   "codemirror_mode": {
    "name": "ipython",
    "version": 3
   },
   "file_extension": ".py",
   "mimetype": "text/x-python",
   "name": "python",
   "nbconvert_exporter": "python",
   "pygments_lexer": "ipython3",
   "version": "3.12.2"
  }
 },
 "nbformat": 4,
 "nbformat_minor": 4
}
