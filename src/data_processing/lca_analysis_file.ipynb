{
 "cells": [
  {
   "cell_type": "markdown",
   "id": "a36b70ce-ced8-4109-b989-1a6556ca78a2",
   "metadata": {},
   "source": [
    "# Labor Condition Applications (LCAs)\n",
    "## Analysis file"
   ]
  },
  {
   "cell_type": "code",
   "execution_count": 1,
   "id": "3b54b301-8509-4d01-b3cc-8066f648d4e9",
   "metadata": {},
   "outputs": [],
   "source": [
    "# Import packages\n",
    "import pandas as pd"
   ]
  },
  {
   "cell_type": "code",
   "execution_count": 2,
   "id": "52853179-483d-41cc-adb0-7c0bcfd7ec03",
   "metadata": {},
   "outputs": [],
   "source": [
    "# Set up parameters\n",
    "data_dir = '../../data/'\n",
    "input_dir = data_dir + 'intermediate/'\n",
    "output_dir = data_dir + 'analysis/'\n",
    "employer_names_filename = 'lca_standardized_employer_names.csv'\n",
    "lca_fields_filename = 'lca_fields.csv'\n",
    "output_filename = 'lca.csv'"
   ]
  },
  {
   "cell_type": "code",
   "execution_count": 3,
   "id": "a99ebaae-ad78-4be7-a3cd-8ac82ed8a4a0",
   "metadata": {},
   "outputs": [],
   "source": [
    "# Standardized employer names\n",
    "employer_names = pd.read_csv(input_dir + employer_names_filename, dtype=str, index_col='CASE_NUMBER')"
   ]
  },
  {
   "cell_type": "code",
   "execution_count": 4,
   "id": "3c8837eb-e65e-4d18-8d85-996de14ce71c",
   "metadata": {},
   "outputs": [],
   "source": [
    "# LCA fields\n",
    "lca_fields = pd.read_csv(input_dir + lca_fields_filename, dtype=str, index_col='CASE_NUMBER').drop('EMPLOYER_NAME', axis=1)"
   ]
  },
  {
   "cell_type": "code",
   "execution_count": 5,
   "id": "e1335f28-190e-415b-979e-dd40d9a02238",
   "metadata": {},
   "outputs": [],
   "source": [
    "# Join tables to create final dataset\n",
    "lca = employer_names.join(lca_fields, validate='1:1')"
   ]
  },
  {
   "cell_type": "code",
   "execution_count": 6,
   "id": "852f087a-7702-4063-b79e-042ec85192bc",
   "metadata": {},
   "outputs": [],
   "source": [
    "# Save analysis file\n",
    "lca.to_csv(output_dir + output_filename)"
   ]
  },
  {
   "cell_type": "code",
   "execution_count": null,
   "id": "0975f665-6d88-4227-92e2-21dfe6fc5473",
   "metadata": {},
   "outputs": [],
   "source": []
  }
 ],
 "metadata": {
  "kernelspec": {
   "display_name": "Python 3 (ipykernel)",
   "language": "python",
   "name": "python3"
  },
  "language_info": {
   "codemirror_mode": {
    "name": "ipython",
    "version": 3
   },
   "file_extension": ".py",
   "mimetype": "text/x-python",
   "name": "python",
   "nbconvert_exporter": "python",
   "pygments_lexer": "ipython3",
   "version": "3.12.2"
  }
 },
 "nbformat": 4,
 "nbformat_minor": 5
}
