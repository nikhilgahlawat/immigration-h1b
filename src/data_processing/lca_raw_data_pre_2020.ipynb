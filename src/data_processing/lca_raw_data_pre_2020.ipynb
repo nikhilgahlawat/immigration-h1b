{
 "cells": [
  {
   "cell_type": "markdown",
   "metadata": {},
   "source": [
    "# Labor Condition Applications (LCAs)\n",
    "## Import pre-2020 raw data\n",
    "**Source:** [Department of Labor > Foreign Labor Certification > Performance Data](https://www.dol.gov/agencies/eta/foreign-labor/performance)  \n",
    "The first step in the H-1B visa program is for employers to submite a Labor Condition Application (LCA) providing information on the type of visa they are seeking, the occupation they are hiring for, the number of workers, the intended pay range, etc.  \n",
    "\n",
    "According to the DOL: \"Beginning in Fiscal Year 2020, the Program Record Layouts associated with each program disclosure file are substantially different from prior fiscal years and include a number of additional data fields extracted based on new visa application forms, appendices, and addenda implemented by OFLC through the new [Foreign Labor Application Gateway (FLAG) System](https://flag.dol.gov/?_ga=2.116320975.836097246.1711548631-607582160.1711058977).\"\n",
    "\n",
    "In this script, we'll import the files for pre-2020 files. Files for 2020 onward are handled in another script."
   ]
  },
  {
   "cell_type": "code",
   "execution_count": 1,
   "metadata": {},
   "outputs": [],
   "source": [
    "# Import packages\n",
    "import pandas as pd"
   ]
  },
  {
   "cell_type": "code",
   "execution_count": 2,
   "metadata": {},
   "outputs": [],
   "source": [
    "# Set up parameters\n",
    "data_dir = '../../data/'\n",
    "output_dir = data_dir + 'raw/'\n",
    "output_filename_base = 'lca_raw_'\n",
    "parameters_dir = data_dir + 'parameters/'\n",
    "column_names_filename = 'lca_pre_2020_column_names.csv'\n",
    "\n",
    "base_url = 'https://www.dol.gov/sites/dolgov/files/ETA/oflc/pdfs/'\n",
    "\n",
    "url_suffixes = {\n",
    "  2019: 'H-1B_Disclosure_Data_FY2019', \n",
    "  2018: 'H-1B_Disclosure_Data_FY2018_EOY', \n",
    "  2017: 'H-1B_Disclosure_Data_FY17', \n",
    "  2016: 'H-1B_Disclosure_Data_FY16', \n",
    "  2015: 'H-1B_Disclosure_Data_FY15_Q4',\n",
    "  2014: 'H-1B_FY14_Q4',\n",
    "  2013: 'LCA_FY2013',\n",
    "  2012: 'LCA_FY2012_Q4',\n",
    "  2011: 'H-1B_iCert_LCA_FY2011_Q4',\n",
    "  2010: 'H-1B_FY2010'\n",
    "}"
   ]
  },
  {
   "cell_type": "code",
   "execution_count": 3,
   "metadata": {},
   "outputs": [],
   "source": [
    "# Import dataframe that standardizes column names across years\n",
    "pre_2020_column_names = pd.read_csv(parameters_dir + column_names_filename)"
   ]
  },
  {
   "cell_type": "code",
   "execution_count": null,
   "metadata": {},
   "outputs": [],
   "source": [
    "# Import datasets pre-2020\n",
    "for year, suff in url_suffixes.items():\n",
    "  url = base_url + suff + '.xlsx'\n",
    "  print('Importing ' + str(year) + ' data: ' + url)\n",
    "  fiscal_year = 'FY' + str(year)\n",
    "  stz_name_col = 'Standard'\n",
    "  \n",
    "  df = pd.read_excel(url, usecols = pre_2020_column_names[fiscal_year].dropna().tolist(), dtype=str)\n",
    "  df.rename(\n",
    "    columns = pre_2020_column_names[[stz_name_col, fiscal_year]].dropna().set_index(fiscal_year)[stz_name_col].to_dict(),\n",
    "    inplace = True\n",
    "    )\n",
    "  df['DATAFILE_YEAR'] = year\n",
    "  # df['DATAFILE_QUARTER'] = ''\n",
    "\n",
    "  # Save data locally\n",
    "  print('Saving ' + str(year) + ' data')\n",
    "  df.to_csv(output_dir + output_filename_base + str(year) + '.csv', index=False)"
   ]
  }
 ],
 "metadata": {
  "kernelspec": {
   "display_name": "Python 3 (ipykernel)",
   "language": "python",
   "name": "python3"
  },
  "language_info": {
   "codemirror_mode": {
    "name": "ipython",
    "version": 3
   },
   "file_extension": ".py",
   "mimetype": "text/x-python",
   "name": "python",
   "nbconvert_exporter": "python",
   "pygments_lexer": "ipython3",
   "version": "3.12.2"
  }
 },
 "nbformat": 4,
 "nbformat_minor": 4
}
