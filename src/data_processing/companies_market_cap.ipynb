{
 "cells": [
  {
   "cell_type": "markdown",
   "id": "4a788666-603f-483c-a9f1-900edb43a64d",
   "metadata": {},
   "source": [
    "# CompaniesMarketCap\n",
    "Scraping data from [CompaniesMarketCap](https://companiesmarketcap.com/), which contains information on company industries, sub-industries, market capitalization, and employee headcount."
   ]
  },
  {
   "cell_type": "code",
   "execution_count": 58,
   "id": "814c653c-763a-47d3-b2a4-2f405a5bebd8",
   "metadata": {},
   "outputs": [],
   "source": [
    "import requests\n",
    "from bs4 import BeautifulSoup\n",
    "import re\n",
    "from cleantext import clean\n",
    "import os\n",
    "import pandas as pd"
   ]
  },
  {
   "cell_type": "code",
   "execution_count": 59,
   "id": "41dfa28e-112e-4c2b-9900-82a49b2b904e",
   "metadata": {},
   "outputs": [],
   "source": [
    "cmc_dir = '../../data/raw/companiesmarketcap/'\n",
    "parameters_dir = '../../data/parameters/'\n",
    "final_file = os.path.join(parameters_dir, 'companiesmarketcap.csv')\n",
    "\n",
    "base_url = 'https://companiesmarketcap.com'\n",
    "download = '?download=csv'"
   ]
  },
  {
   "cell_type": "code",
   "execution_count": 60,
   "id": "631998e1-ad2a-490d-8563-62add803ad28",
   "metadata": {},
   "outputs": [],
   "source": [
    "# Create output filename with custom extension\n",
    "def output_filename(ext):\n",
    "  return cmc_dir + 'cmc_' + ext + '.csv'"
   ]
  },
  {
   "cell_type": "code",
   "execution_count": 4,
   "id": "14c93f2a-af28-44c2-ab66-500767aa703a",
   "metadata": {},
   "outputs": [],
   "source": [
    "# Create output folder if it doesn't exist\n",
    "if not os.path.exists(cmc_dir):\n",
    "  os.makedirs(cmc_dir)"
   ]
  },
  {
   "cell_type": "markdown",
   "id": "0601cc0b-a9f1-4652-8769-210d5d201d2a",
   "metadata": {},
   "source": [
    "## Pages to scrape\n",
    "Collect a list of pages we want to scrape.  "
   ]
  },
  {
   "cell_type": "code",
   "execution_count": 5,
   "id": "8f9e96ca-3962-4ab0-bb66-35ff01e6881a",
   "metadata": {},
   "outputs": [],
   "source": [
    "pages = []"
   ]
  },
  {
   "cell_type": "markdown",
   "id": "b7efd540-a1d6-4e02-a3b6-d8377e18c2ca",
   "metadata": {},
   "source": [
    "Start with the pages that contain data for all companies"
   ]
  },
  {
   "cell_type": "code",
   "execution_count": 6,
   "id": "bd23984f-f95b-4eb2-9fcf-e1188cb33876",
   "metadata": {},
   "outputs": [],
   "source": [
    "# List of all companies\n",
    "# First get the page that contains market capitalization data\n",
    "pages.append({\n",
    "  'category': 'All',\n",
    "  'filename': output_filename('all'),\n",
    "  'url': base_url\n",
    "})\n",
    "# Then the page with the employee headcount field\n",
    "pages.append({\n",
    "  'category': 'All - Employees',\n",
    "  'filename': output_filename('all_employees'),\n",
    "  'url': base_url + '/largest-companies-by-number-of-employees/'\n",
    "})"
   ]
  },
  {
   "cell_type": "markdown",
   "id": "3492a315-c1ea-4c6a-9c07-bd50a9885586",
   "metadata": {},
   "source": [
    "Next, scrape the page that contains the list of all available company categories/industries"
   ]
  },
  {
   "cell_type": "code",
   "execution_count": 7,
   "id": "866e5cfa-8326-4483-803c-1c89b50cdbf9",
   "metadata": {},
   "outputs": [],
   "source": [
    "response = requests.get(base_url + '/all-categories')\n",
    "soup = BeautifulSoup(response.content, 'html.parser')"
   ]
  },
  {
   "cell_type": "code",
   "execution_count": 8,
   "id": "7748ab81-3b6f-452d-b3b6-dfdeb6079475",
   "metadata": {
    "scrolled": true
   },
   "outputs": [],
   "source": [
    "# Extract data from the table\n",
    "rows = soup.find('table').find('tbody').find_all('a')\n",
    "\n",
    "# Extract the categories from the table\n",
    "for row in rows:\n",
    "  category = re.sub(r'[^A-Za-z0-9 &/]+', '', row.text).strip()\n",
    "  filename = re.sub(r'-', '_', row['href'].split('/')[1])\n",
    "  url = base_url + row['href']\n",
    "  \n",
    "  pages.append({\n",
    "    'category': category,\n",
    "    'filename': output_filename(filename),\n",
    "    'url': url\n",
    "  })"
   ]
  },
  {
   "cell_type": "code",
   "execution_count": 9,
   "id": "d9879e23-a68a-4e41-8517-1bb0076e4e57",
   "metadata": {},
   "outputs": [
    {
     "name": "stdout",
     "output_type": "stream",
     "text": [
      "Total pages to scrape: 161\n"
     ]
    }
   ],
   "source": [
    "print('Total pages to scrape:', len(pages))"
   ]
  },
  {
   "cell_type": "markdown",
   "id": "4621c06e-76c4-426b-b38a-b238a322d71e",
   "metadata": {},
   "source": [
    "## Scrape data and save files"
   ]
  },
  {
   "cell_type": "markdown",
   "id": "c1a343fb-8c90-471e-8286-6119aa00fb32",
   "metadata": {},
   "source": [
    "Loop through the list of pages, scrape data and save to disk"
   ]
  },
  {
   "cell_type": "code",
   "execution_count": 14,
   "id": "89392dd1-7345-4ba5-b095-8beb1720e5d1",
   "metadata": {
    "scrolled": true
   },
   "outputs": [
    {
     "name": "stdout",
     "output_type": "stream",
     "text": [
      "Saving All to: ../../data/raw/companiesmarketcap/cmc_all.csv\n",
      "Saving All - Employees to: ../../data/raw/companiesmarketcap/cmc_all_employees.csv\n",
      "Saving Tech to: ../../data/raw/companiesmarketcap/cmc_tech.csv\n",
      "Saving Dow jones to: ../../data/raw/companiesmarketcap/cmc_dow_jones.csv\n",
      "Saving AI to: ../../data/raw/companiesmarketcap/cmc_artificial_intelligence.csv\n",
      "Saving Financial services to: ../../data/raw/companiesmarketcap/cmc_financial_services.csv\n",
      "Saving Software to: ../../data/raw/companiesmarketcap/cmc_software.csv\n",
      "Saving Tech Hardware to: ../../data/raw/companiesmarketcap/cmc_tech_hardware.csv\n",
      "Saving Energy to: ../../data/raw/companiesmarketcap/cmc_energy.csv\n",
      "Saving Banks to: ../../data/raw/companiesmarketcap/cmc_banks.csv\n",
      "Saving Electronics to: ../../data/raw/companiesmarketcap/cmc_electronics.csv\n",
      "Saving Internet to: ../../data/raw/companiesmarketcap/cmc_internet.csv\n",
      "Saving Semiconductors to: ../../data/raw/companiesmarketcap/cmc_semiconductors.csv\n",
      "Saving Oil&Gas to: ../../data/raw/companiesmarketcap/cmc_oil_gas.csv\n",
      "Saving Manufacturing to: ../../data/raw/companiesmarketcap/cmc_manufacturing.csv\n",
      "Saving Biotech to: ../../data/raw/companiesmarketcap/cmc_biotech.csv\n",
      "Saving Pharmaceuticals to: ../../data/raw/companiesmarketcap/cmc_pharmaceuticals.csv\n",
      "Saving Autonomous driving to: ../../data/raw/companiesmarketcap/cmc_autonomous_driving.csv\n",
      "Saving Retail to: ../../data/raw/companiesmarketcap/cmc_retail.csv\n",
      "Saving Investment to: ../../data/raw/companiesmarketcap/cmc_investment.csv\n",
      "Saving Video games to: ../../data/raw/companiesmarketcap/cmc_video_games.csv\n",
      "Saving Insurance to: ../../data/raw/companiesmarketcap/cmc_insurance.csv\n",
      "Saving Electricity to: ../../data/raw/companiesmarketcap/cmc_electricity.csv\n",
      "Saving ECommerce to: ../../data/raw/companiesmarketcap/cmc_e_commerce.csv\n",
      "Saving Telecommunication to: ../../data/raw/companiesmarketcap/cmc_telecommunication.csv\n",
      "Saving Real estate to: ../../data/raw/companiesmarketcap/cmc_real_estate.csv\n",
      "Saving CAC 40 to: ../../data/raw/companiesmarketcap/cmc_cac_40.csv\n",
      "Saving Automakers to: ../../data/raw/companiesmarketcap/cmc_automakers.csv\n",
      "Saving Food to: ../../data/raw/companiesmarketcap/cmc_food.csv\n",
      "Saving Professional services to: ../../data/raw/companiesmarketcap/cmc_professional_services.csv\n",
      "Saving Conglomerate to: ../../data/raw/companiesmarketcap/cmc_conglomerate.csv\n",
      "Saving Beverages to: ../../data/raw/companiesmarketcap/cmc_beverages.csv\n",
      "Saving Transportation to: ../../data/raw/companiesmarketcap/cmc_transportation.csv\n",
      "Saving Healthcare to: ../../data/raw/companiesmarketcap/cmc_healthcare.csv\n",
      "Saving Utility companies to: ../../data/raw/companiesmarketcap/cmc_utility_companies.csv\n",
      "Saving DAX to: ../../data/raw/companiesmarketcap/cmc_dax.csv\n",
      "Saving Entertainment to: ../../data/raw/companiesmarketcap/cmc_entertainment.csv\n",
      "Saving Mining to: ../../data/raw/companiesmarketcap/cmc_mining.csv\n",
      "Saving Clothing to: ../../data/raw/companiesmarketcap/cmc_clothing.csv\n",
      "Saving Chemicals to: ../../data/raw/companiesmarketcap/cmc_chemicals.csv\n",
      "Saving REITs to: ../../data/raw/companiesmarketcap/cmc_reit.csv\n",
      "Saving Aerospace to: ../../data/raw/companiesmarketcap/cmc_aerospace.csv\n",
      "Saving Supermarket Chains to: ../../data/raw/companiesmarketcap/cmc_supermarkets.csv\n",
      "Saving Consumer goods to: ../../data/raw/companiesmarketcap/cmc_consumer_goods.csv\n",
      "Saving Medical devices to: ../../data/raw/companiesmarketcap/cmc_medical_devices.csv\n",
      "Saving Infrastructure to: ../../data/raw/companiesmarketcap/cmc_infrastructure.csv\n",
      "Saving Travel to: ../../data/raw/companiesmarketcap/cmc_travel.csv\n",
      "Saving Luxury goods to: ../../data/raw/companiesmarketcap/cmc_luxury_goods.csv\n",
      "Saving Bitcoin to: ../../data/raw/companiesmarketcap/cmc_bitcoin.csv\n",
      "Saving Engineering to: ../../data/raw/companiesmarketcap/cmc_engineering.csv\n",
      "Saving Defense contractors to: ../../data/raw/companiesmarketcap/cmc_defense_contractors.csv\n",
      "Saving Alcoholic beverages to: ../../data/raw/companiesmarketcap/cmc_alcoholic_beverages.csv\n",
      "Saving Electric Vehicles to: ../../data/raw/companiesmarketcap/cmc_electric_vehicles.csv\n",
      "Saving EV charging to: ../../data/raw/companiesmarketcap/cmc_ev_charging.csv\n",
      "Saving Construction to: ../../data/raw/companiesmarketcap/cmc_construction.csv\n",
      "Saving IT services to: ../../data/raw/companiesmarketcap/cmc_it_services.csv\n",
      "Saving Networking hardware to: ../../data/raw/companiesmarketcap/cmc_networking_hardware.csv\n",
      "Saving Railways to: ../../data/raw/companiesmarketcap/cmc_railways.csv\n",
      "Saving Esports to: ../../data/raw/companiesmarketcap/cmc_esports.csv\n",
      "Saving Media/Press to: ../../data/raw/companiesmarketcap/cmc_media_press.csv\n",
      "Saving Machinery manufacturing to: ../../data/raw/companiesmarketcap/cmc_machinery_manufacturing.csv\n",
      "Saving Building materials to: ../../data/raw/companiesmarketcap/cmc_building_materials.csv\n",
      "Saving IT security to: ../../data/raw/companiesmarketcap/cmc_it_security.csv\n",
      "Saving Renewable energy to: ../../data/raw/companiesmarketcap/cmc_renewable_energy.csv\n",
      "Saving Tobacco to: ../../data/raw/companiesmarketcap/cmc_tobacco.csv\n",
      "Saving Scientific & Technical Instruments to: ../../data/raw/companiesmarketcap/cmc_scientific_and_technical_instruments.csv\n",
      "Saving Stock/Crypto exchanges to: ../../data/raw/companiesmarketcap/cmc_exchanges.csv\n",
      "Saving Restaurant chains to: ../../data/raw/companiesmarketcap/cmc_restaurant_chains.csv\n",
      "Saving Asset Management to: ../../data/raw/companiesmarketcap/cmc_asset_management.csv\n",
      "Saving Hotels to: ../../data/raw/companiesmarketcap/cmc_hotels.csv\n",
      "Saving Stock exchanges to: ../../data/raw/companiesmarketcap/cmc_stock_exchanges.csv\n",
      "Saving Aircraft manufacturers to: ../../data/raw/companiesmarketcap/cmc_aircraft_manufacturers.csv\n",
      "Saving Cosmetics and Beauty to: ../../data/raw/companiesmarketcap/cmc_cosmetics.csv\n",
      "Saving Diagnostics and Testing to: ../../data/raw/companiesmarketcap/cmc_diagnostics.csv\n",
      "Saving Telecommunications equipment to: ../../data/raw/companiesmarketcap/cmc_telecommunications_equipment.csv\n",
      "Saving Steel industry to: ../../data/raw/companiesmarketcap/cmc_steel_industry.csv\n",
      "Saving Gold mining to: ../../data/raw/companiesmarketcap/cmc_gold_mining.csv\n",
      "Saving Courier to: ../../data/raw/companiesmarketcap/cmc_delivery_services.csv\n",
      "Saving Steel producers to: ../../data/raw/companiesmarketcap/cmc_steel_producers.csv\n",
      "Saving Sports goods to: ../../data/raw/companiesmarketcap/cmc_sports.csv\n",
      "Saving Airlines to: ../../data/raw/companiesmarketcap/cmc_airlines.csv\n",
      "Saving Cement to: ../../data/raw/companiesmarketcap/cmc_cement.csv\n",
      "Saving Waste & Recycling to: ../../data/raw/companiesmarketcap/cmc_waste_recycling.csv\n",
      "Saving Online Travel to: ../../data/raw/companiesmarketcap/cmc_online_travel.csv\n",
      "Saving Coal Mining to: ../../data/raw/companiesmarketcap/cmc_coal_mining.csv\n",
      "Saving Footwear to: ../../data/raw/companiesmarketcap/cmc_footwear.csv\n",
      "Saving Maritime transportation to: ../../data/raw/companiesmarketcap/cmc_maritime_transportation.csv\n",
      "Saving Gambling to: ../../data/raw/companiesmarketcap/cmc_gambling.csv\n",
      "Saving Automotive Suppliers to: ../../data/raw/companiesmarketcap/cmc_automotive_suppliers.csv\n",
      "Saving Specialty Vehicles to: ../../data/raw/companiesmarketcap/cmc_specialty_vehicles.csv\n",
      "Saving Home & Kitchen Appliances to: ../../data/raw/companiesmarketcap/cmc_home_and_kitchen_appliances.csv\n",
      "Saving Batteries to: ../../data/raw/companiesmarketcap/cmc_batteries.csv\n",
      "Saving Paint & Coating to: ../../data/raw/companiesmarketcap/cmc_paint_and_coating.csv\n",
      "Saving Medical Care Facilities to: ../../data/raw/companiesmarketcap/cmc_medical_care_facilities.csv\n",
      "Saving Airports to: ../../data/raw/companiesmarketcap/cmc_airports.csv\n",
      "Saving Container shipping to: ../../data/raw/companiesmarketcap/cmc_container_shipping.csv\n",
      "Saving Ridesharing to: ../../data/raw/companiesmarketcap/cmc_ridesharing.csv\n",
      "Saving Glasses and contact lenses to: ../../data/raw/companiesmarketcap/cmc_glasses_and_contact_lenses.csv\n",
      "Saving Packaging to: ../../data/raw/companiesmarketcap/cmc_packaging.csv\n",
      "Saving auto parts to: ../../data/raw/companiesmarketcap/cmc_auto_parts.csv\n",
      "Saving Pulp and paper to: ../../data/raw/companiesmarketcap/cmc_pulp_and_paper.csv\n",
      "Saving Car retail to: ../../data/raw/companiesmarketcap/cmc_car_retail.csv\n",
      "Saving Rental & Leasing Services to: ../../data/raw/companiesmarketcap/cmc_rental_and_leasing_services.csv\n",
      "Saving Fertilizer companies to: ../../data/raw/companiesmarketcap/cmc_fertilizer.csv\n",
      "Saving Staffing & Employment Services to: ../../data/raw/companiesmarketcap/cmc_staffing_employment.csv\n",
      "Saving Advertising to: ../../data/raw/companiesmarketcap/cmc_advertising.csv\n",
      "Saving Drugstore to: ../../data/raw/companiesmarketcap/cmc_drugstore.csv\n",
      "Saving Tool manufacturers to: ../../data/raw/companiesmarketcap/cmc_tool_manufacturers.csv\n",
      "Saving Used car retailer to: ../../data/raw/companiesmarketcap/cmc_used_car_retailer.csv\n",
      "Saving Agriculture to: ../../data/raw/companiesmarketcap/cmc_agriculture.csv\n",
      "Saving Tires to: ../../data/raw/companiesmarketcap/cmc_tires.csv\n",
      "Saving Flavors & Fragrances to: ../../data/raw/companiesmarketcap/cmc_flavors_and_fragrances.csv\n",
      "Saving Education to: ../../data/raw/companiesmarketcap/cmc_education.csv\n",
      "Saving Food Delivery to: ../../data/raw/companiesmarketcap/cmc_food_delivery.csv\n",
      "Saving Ports to: ../../data/raw/companiesmarketcap/cmc_ports.csv\n",
      "Saving Silver Mining to: ../../data/raw/companiesmarketcap/cmc_silver_mining.csv\n",
      "Saving Cruise Lines to: ../../data/raw/companiesmarketcap/cmc_cruise_lines.csv\n",
      "Saving Aluminum to: ../../data/raw/companiesmarketcap/cmc_aluminum.csv\n",
      "Saving Genomics to: ../../data/raw/companiesmarketcap/cmc_genomics.csv\n",
      "Saving Medical equipment to: ../../data/raw/companiesmarketcap/cmc_medical_equipment.csv\n",
      "Saving Robotics to: ../../data/raw/companiesmarketcap/cmc_robotics.csv\n",
      "Saving Gloves & PPE to: ../../data/raw/companiesmarketcap/cmc_glove_ppe.csv\n",
      "Saving mRNA therapeutics to: ../../data/raw/companiesmarketcap/cmc_mrna_therapeutics.csv\n",
      "Saving Dairy companies to: ../../data/raw/companiesmarketcap/cmc_dairy.csv\n",
      "Saving Furniture to: ../../data/raw/companiesmarketcap/cmc_furniture.csv\n",
      "Saving Uranium to: ../../data/raw/companiesmarketcap/cmc_uranium.csv\n",
      "Saving Oil & Gas Equipment & Services to: ../../data/raw/companiesmarketcap/cmc_oil_gas_equipment_services.csv\n",
      "Saving Motorcycle Manufacturers to: ../../data/raw/companiesmarketcap/cmc_motorcycle_manufacturers.csv\n",
      "Saving Toll Road Operators to: ../../data/raw/companiesmarketcap/cmc_toll_road_operators.csv\n",
      "Saving Pollution control and treatment to: ../../data/raw/companiesmarketcap/cmc_pollution_control_and_treatment.csv\n",
      "Saving Security & Protection Services to: ../../data/raw/companiesmarketcap/cmc_security_protection_services.csv\n",
      "Saving Cannabis to: ../../data/raw/companiesmarketcap/cmc_cannabis.csv\n",
      "Saving Bitcoin mining to: ../../data/raw/companiesmarketcap/cmc_bitcoin_mining.csv\n",
      "Saving Car rental to: ../../data/raw/companiesmarketcap/cmc_car_rental.csv\n",
      "Saving IoT to: ../../data/raw/companiesmarketcap/cmc_iot.csv\n",
      "Saving Aircraft leasing to: ../../data/raw/companiesmarketcap/cmc_aircraft_leasing.csv\n",
      "Saving Gene therapy to: ../../data/raw/companiesmarketcap/cmc_gene_therapy.csv\n",
      "Saving Telehealth to: ../../data/raw/companiesmarketcap/cmc_telehealth.csv\n",
      "Saving Pizza to: ../../data/raw/companiesmarketcap/cmc_pizza.csv\n",
      "Saving Biofuel to: ../../data/raw/companiesmarketcap/cmc_biofuel.csv\n",
      "Saving Online Dating to: ../../data/raw/companiesmarketcap/cmc_online_dating.csv\n",
      "Saving Dietary supplements to: ../../data/raw/companiesmarketcap/cmc_dietary_supplements.csv\n",
      "Saving CRISPR to: ../../data/raw/companiesmarketcap/cmc_crispr.csv\n",
      "Saving Toys to: ../../data/raw/companiesmarketcap/cmc_toys.csv\n",
      "Saving Wellness to: ../../data/raw/companiesmarketcap/cmc_wellness.csv\n",
      "Saving Lidar to: ../../data/raw/companiesmarketcap/cmc_lidar.csv\n",
      "Saving Football to: ../../data/raw/companiesmarketcap/cmc_football.csv\n",
      "Saving Hydrogen fuel cell to: ../../data/raw/companiesmarketcap/cmc_hydrogen_fuel_cell.csv\n",
      "Saving Wire and Cable Manufacturers to: ../../data/raw/companiesmarketcap/cmc_wire_and_cable_manufacturers.csv\n",
      "Saving Tools and Hardware to: ../../data/raw/companiesmarketcap/cmc_tools_and_hardware.csv\n",
      "Saving LED Lighting Manufacturers to: ../../data/raw/companiesmarketcap/cmc_led_lighting.csv\n",
      "Saving 3D Printing to: ../../data/raw/companiesmarketcap/cmc_3d_printing.csv\n",
      "Saving Multilevel marketing to: ../../data/raw/companiesmarketcap/cmc_mlm.csv\n",
      "Saving Smart Home to: ../../data/raw/companiesmarketcap/cmc_smart_home.csv\n",
      "Saving Personal care to: ../../data/raw/companiesmarketcap/cmc_personal_care.csv\n",
      "Saving Patent licensing to: ../../data/raw/companiesmarketcap/cmc_patent_licensing.csv\n",
      "Saving Industrial supplies to: ../../data/raw/companiesmarketcap/cmc_industrial_supplies.csv\n",
      "Saving Hospitality to: ../../data/raw/companiesmarketcap/cmc_hospitality.csv\n",
      "Saving Glassware to: ../../data/raw/companiesmarketcap/cmc_glassware.csv\n",
      "Saving Recommerce to: ../../data/raw/companiesmarketcap/cmc_recommerce.csv\n",
      "Saving medicalinstruments & supplies to: ../../data/raw/companiesmarketcap/cmc_medical_instruments_and_supplies.csv\n"
     ]
    }
   ],
   "source": [
    "# Keep track of any pages that don't exist / return 404 errors\n",
    "pages_not_exist = []\n",
    "\n",
    "for page in pages:\n",
    "  response = requests.get(page['url'] + download)\n",
    "\n",
    "  # If the page exists, save the data. Otherwise skip.\n",
    "  # Note which pages exist and which don't\n",
    "  if response.ok:\n",
    "    print('Saving', page['category'], 'to:', page['filename'])\n",
    "    with open(page['filename'], 'wb') as file:\n",
    "      file.write(response.content)\n",
    "  else:\n",
    "    print('SKIPPING', page['category'], 'at', page['url'])\n",
    "    pages_not_exist.append(page)"
   ]
  },
  {
   "cell_type": "code",
   "execution_count": 57,
   "id": "32cdd13d-41d3-44b0-83f7-4d6327d822d8",
   "metadata": {
    "scrolled": true
   },
   "outputs": [],
   "source": [
    "# Drop any pages that did not exist\n",
    "pages = [page for page in pages if page not in pages_not_exist]"
   ]
  },
  {
   "cell_type": "code",
   "execution_count": 59,
   "id": "52719f11-ffcc-4139-99b1-df6ef89706c6",
   "metadata": {},
   "outputs": [
    {
     "name": "stdout",
     "output_type": "stream",
     "text": [
      "Scraped 161 pages\n",
      "0 pages did not exist\n"
     ]
    }
   ],
   "source": [
    "print('Scraped', len(pages), 'pages')\n",
    "print(len(pages_not_exist), 'pages did not exist')\n",
    "# for page in pages_not_exist:\n",
    "#   print(page['segment'], ': ', page['url'], sep='')"
   ]
  },
  {
   "cell_type": "markdown",
   "id": "e1e4c9ff-1bd2-4943-8116-a32f0f9a90ad",
   "metadata": {},
   "source": [
    "## Final dataset"
   ]
  },
  {
   "cell_type": "markdown",
   "id": "71fd409e-4422-4a8a-8cf9-4eda9e89c363",
   "metadata": {},
   "source": [
    "### Combine company data across different categories"
   ]
  },
  {
   "cell_type": "markdown",
   "id": "1ba758aa-21f5-4ec0-8c72-2c4da491f65b",
   "metadata": {},
   "source": [
    "Create the base dataset of all companies"
   ]
  },
  {
   "cell_type": "code",
   "execution_count": 175,
   "id": "049ec3a7-9866-45d2-bc8e-089b1cd98e78",
   "metadata": {},
   "outputs": [],
   "source": [
    "all_filename = 'cmc_all.csv'\n",
    "all_employees_filename = 'cmc_all_employees.csv'\n",
    "cmc_files = [file for file in os.listdir(cmc_dir) if file.endswith('.csv') and file not in [all_filename, all_employees_filename]]\n",
    "# categories = [re.sub('cmc_|\\\\.csv', '', file) for file in cmc_files if file not in ['cmc_all.csv', 'cmc_all_employees.csv']]"
   ]
  },
  {
   "cell_type": "code",
   "execution_count": 176,
   "id": "e273483c-ef02-4fb0-a047-95c3aefd176e",
   "metadata": {},
   "outputs": [],
   "source": [
    "# Start with the list of all companies\n",
    "companies = pd.read_csv(os.path.join(cmc_dir, all_filename), index_col=['Name', 'country', 'Symbol'])\n",
    "\n",
    "# Get the employee headcounts data\n",
    "companies_employees = pd.read_csv(os.path.join(cmc_dir, all_employees_filename), usecols=['Name', 'country', 'Symbol', 'employees_count'], index_col=['Name', 'country', 'Symbol'])\n",
    "companies_employees.rename(columns={'employees_count': 'Employees'}, inplace=True)\n",
    "\n",
    "# Combine into single dataset\n",
    "companies = companies.join(companies_employees, validate='1:1')\n",
    "# companies.reset_index(inplace=True)"
   ]
  },
  {
   "cell_type": "markdown",
   "id": "0dbb1945-ac7b-48ae-9604-c9b7873d39a8",
   "metadata": {},
   "source": [
    "Now import the category datasets and join each with the base dataset.  \n",
    "If a company appears in a category dataset, set the category field to 1, otherwise 0"
   ]
  },
  {
   "cell_type": "code",
   "execution_count": 177,
   "id": "7d6095c9-5616-4e70-9666-f9bae492df23",
   "metadata": {
    "scrolled": true
   },
   "outputs": [],
   "source": [
    "category_dfs = {}\n",
    "category_cols = []\n",
    "\n",
    "for file in cmc_files:\n",
    "  # Read the file, which contains the companies in each category\n",
    "  df = pd.read_csv(os.path.join(cmc_dir, file), usecols=['Name', 'country', 'Symbol'])\n",
    "\n",
    "  # Create the column name from the filename, and set the value to 1\n",
    "  category = re.sub('cmc_|\\\\.csv', '', file)\n",
    "  category_cols.append(category)\n",
    "  df[category] = 1\n",
    "\n",
    "  df.set_index(['Name', 'country', 'Symbol'], inplace=True)\n",
    "  category_dfs[category] = df\n",
    "\n",
    "# Concatenate all datasets\n",
    "category_dfs = pd.concat(category_dfs.values(), axis=1)"
   ]
  },
  {
   "cell_type": "markdown",
   "id": "697a706a-3646-4439-b138-eed902205ff9",
   "metadata": {},
   "source": [
    "Join the categories with the full company dataset and fill in any blank fields"
   ]
  },
  {
   "cell_type": "code",
   "execution_count": 178,
   "id": "c7dd3def-6e4a-4155-b936-180a1cda0c15",
   "metadata": {
    "scrolled": true
   },
   "outputs": [],
   "source": [
    "companies = companies.join(category_dfs, how='left', validate='1:1')\n",
    "companies[category_cols] = companies[category_cols].fillna(0)"
   ]
  },
  {
   "cell_type": "markdown",
   "id": "f639e3e9-8d19-4521-9a68-aebf7cf81e22",
   "metadata": {},
   "source": [
    "Reset the index, first creating a copy to defragment the dataset"
   ]
  },
  {
   "cell_type": "code",
   "execution_count": 179,
   "id": "40dcbd30-7118-4f5f-9e73-27f2383d8bed",
   "metadata": {},
   "outputs": [],
   "source": [
    "companies = companies.copy()\n",
    "companies.reset_index(inplace=True)"
   ]
  },
  {
   "cell_type": "markdown",
   "id": "4e74f153-6255-45b4-859a-27003c7fdf18",
   "metadata": {},
   "source": [
    "Rename columns"
   ]
  },
  {
   "cell_type": "code",
   "execution_count": 180,
   "id": "49d63d25-d02f-4dad-9529-f6901ea3b2f9",
   "metadata": {},
   "outputs": [],
   "source": [
    "companies.rename(\n",
    "  columns = {\n",
    "    'Name': 'Company',\n",
    "    'country': 'Country',\n",
    "    'Rank': 'Market Cap Rank',\n",
    "    'price (USD)': 'Price (USD)'\n",
    "  },\n",
    "  inplace=True\n",
    ")"
   ]
  },
  {
   "cell_type": "markdown",
   "id": "f4ac7294-744d-4d11-8b74-8e80f3b6327b",
   "metadata": {},
   "source": [
    "### Clean up data"
   ]
  },
  {
   "cell_type": "markdown",
   "id": "54b08f8b-b6b2-4684-8589-d31f5d9197fe",
   "metadata": {},
   "source": [
    "A handful of companies have the same name. To make names distinct, identify any duplicate company names and add the company symbol to the name."
   ]
  },
  {
   "cell_type": "code",
   "execution_count": 181,
   "id": "f710af1d-f6c7-459e-b564-6b08e5ec34c1",
   "metadata": {},
   "outputs": [
    {
     "name": "stdout",
     "output_type": "stream",
     "text": [
      "Fixing 3 company names: First Bancorp, Phoenix Group, Castellum\n"
     ]
    }
   ],
   "source": [
    "# Identify duplicate company names\n",
    "company_counts = companies['Company'].value_counts()\n",
    "company_dupes = company_counts[company_counts > 1].index.tolist()\n",
    "print(f'Fixing {len(company_dupes)} company names: {', '.join(company_dupes)}')"
   ]
  },
  {
   "cell_type": "code",
   "execution_count": 182,
   "id": "95381b6f-ac73-4673-9f9e-7d8a9953c925",
   "metadata": {},
   "outputs": [],
   "source": [
    "# Find the index for each duplicate\n",
    "idx = companies['Company'].isin(company_dupes)\n",
    "\n",
    "# Update the company name of each duplicate to include the company symbol\n",
    "companies.loc[idx, 'Company'] = companies.loc[idx, 'Company'] + ' (' + companies.loc[idx, 'Symbol'] + ')'"
   ]
  },
  {
   "cell_type": "markdown",
   "id": "350cb7e0-679a-4bc4-acf3-7fca165b2eae",
   "metadata": {},
   "source": [
    "Replace instances of `&amp;` in company names with `&`"
   ]
  },
  {
   "cell_type": "code",
   "execution_count": 183,
   "id": "c0b166be-3ea9-42b9-8206-ad4d56650f7f",
   "metadata": {},
   "outputs": [],
   "source": [
    "companies['Company'] = companies['Company'].str.replace('&amp;', '&')"
   ]
  },
  {
   "cell_type": "markdown",
   "id": "8ae54b2f-f991-4494-9082-ea9a80b86dbb",
   "metadata": {},
   "source": [
    "### Manual adjustments"
   ]
  },
  {
   "cell_type": "markdown",
   "id": "7cac1ce6-32ff-4ab3-a624-314998622156",
   "metadata": {},
   "source": [
    "A handful of manual adjustments to the dataset"
   ]
  },
  {
   "cell_type": "markdown",
   "id": "105e53d0-ced5-4012-a0dc-c158c2fff615",
   "metadata": {},
   "source": [
    "Flag Tech Mahindra as IT Services. CompaniesMarketCap does not provide a category but [Yahoo Finance](https://finance.yahoo.com/quote/TECHM.NS/) describes the business as IT services."
   ]
  },
  {
   "cell_type": "code",
   "execution_count": 184,
   "id": "41611971-2285-44d0-965e-7d99f60ade27",
   "metadata": {},
   "outputs": [],
   "source": [
    "companies.loc[companies['Company'] == 'Tech Mahindra', 'it_services'] = 1"
   ]
  },
  {
   "cell_type": "markdown",
   "id": "771d2109-7b25-4d07-ab22-fec643287943",
   "metadata": {},
   "source": [
    "Flag Larsen & Toubro as Professional Services. CompaniesMarketCap does not provide a category but [Yahoo Finance](https://finance.yahoo.com/quote/LT.NS/ ) and the company's website describe the business as providing engineering services"
   ]
  },
  {
   "cell_type": "code",
   "execution_count": 185,
   "id": "a107d283-5a43-497a-8933-7f7496b36726",
   "metadata": {},
   "outputs": [],
   "source": [
    "companies.loc[companies['Company'] == 'Larsen & Toubro', 'professional_services'] = 1"
   ]
  },
  {
   "cell_type": "markdown",
   "id": "079c84b1-84a6-48c7-b8f3-a540e9dfec07",
   "metadata": {},
   "source": [
    "Flag L&T Technology Services as Professional Services. CompaniesMarketCap does not provide a category but [Yahoo Finance](https://finance.yahoo.com/quote/LT.NS/ ) and the company's website describe the business as providing engineering services."
   ]
  },
  {
   "cell_type": "code",
   "execution_count": 186,
   "id": "ef46ae3c-6bf8-4cb3-8297-220bf7313001",
   "metadata": {},
   "outputs": [],
   "source": [
    "companies.loc[companies['Company'] == 'L&T Technology Services', 'professional_services'] = 1"
   ]
  },
  {
   "cell_type": "markdown",
   "id": "65031124-27df-4923-8f62-34b283003feb",
   "metadata": {},
   "source": [
    "Making the company name \"QUALCOMM\" lowercase to match other datasets"
   ]
  },
  {
   "cell_type": "code",
   "execution_count": 187,
   "id": "19a12636-238b-40ef-af32-4926cc4fe4d2",
   "metadata": {},
   "outputs": [],
   "source": [
    "companies.loc[companies['Company'] == 'QUALCOMM', 'Company'] = 'Qualcomm'"
   ]
  },
  {
   "cell_type": "markdown",
   "id": "330d2b5e-55b3-4016-8629-6d3acd5cfb4a",
   "metadata": {},
   "source": [
    "Making the company name \"NVIDIA\" lowercase to match other datasets"
   ]
  },
  {
   "cell_type": "code",
   "execution_count": 188,
   "id": "80d81c11-8e85-4c6e-8815-78511ff42b61",
   "metadata": {},
   "outputs": [],
   "source": [
    "companies.loc[companies['Company'] == 'NVIDIA', 'Company'] = 'Nvidia'"
   ]
  },
  {
   "cell_type": "markdown",
   "id": "259e9e01-f1c5-4358-b7e5-d1e936aa9ec8",
   "metadata": {},
   "source": [
    "## Save the final dataset"
   ]
  },
  {
   "cell_type": "code",
   "execution_count": 189,
   "id": "a1af9d3f-5bb1-4e38-972f-701da48d3708",
   "metadata": {},
   "outputs": [],
   "source": [
    "companies.to_csv(final_file)"
   ]
  },
  {
   "cell_type": "code",
   "execution_count": null,
   "id": "733faeef-1398-41c2-9cd5-3498135c8c09",
   "metadata": {},
   "outputs": [],
   "source": []
  }
 ],
 "metadata": {
  "kernelspec": {
   "display_name": "Python 3 (ipykernel)",
   "language": "python",
   "name": "python3"
  },
  "language_info": {
   "codemirror_mode": {
    "name": "ipython",
    "version": 3
   },
   "file_extension": ".py",
   "mimetype": "text/x-python",
   "name": "python",
   "nbconvert_exporter": "python",
   "pygments_lexer": "ipython3",
   "version": "3.12.2"
  }
 },
 "nbformat": 4,
 "nbformat_minor": 5
}
