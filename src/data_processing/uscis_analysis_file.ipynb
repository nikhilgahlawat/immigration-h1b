{
 "cells": [
  {
   "cell_type": "markdown",
   "metadata": {},
   "source": [
    "# USCIS H-1B Data: Create analysis file\n",
    "Clean up raw data imported from the [H-1B Data Hub](https://www.uscis.gov/tools/reports-and-studies/h-1b-employer-data-hub) and create an analysis file. Documentation on the data can be found [here](https://www.uscis.gov/tools/reports-and-studies/h-1b-employer-data-hub/h-1b-employer-data-hub-files)."
   ]
  },
  {
   "cell_type": "code",
   "execution_count": 1,
   "metadata": {},
   "outputs": [],
   "source": [
    "# Import packages\n",
    "import pandas as pd\n",
    "import re"
   ]
  },
  {
   "cell_type": "code",
   "execution_count": 2,
   "metadata": {},
   "outputs": [],
   "source": [
    "# Set up parameters\n",
    "data_dir = '../../data/'\n",
    "input_dir = data_dir + 'intermediate/'\n",
    "output_dir = data_dir + 'analysis/'\n",
    "input_filename = 'uscis_intermediate.csv'\n",
    "output_filename = 'uscis.csv'\n",
    "parameters_dir = data_dir + 'parameters/'\n",
    "employer_params_filename = 'employer_params.csv'"
   ]
  },
  {
   "cell_type": "code",
   "execution_count": 3,
   "metadata": {},
   "outputs": [],
   "source": [
    "# Load data\n",
    "uscis = pd.read_csv(input_dir + input_filename, dtype=str)"
   ]
  },
  {
   "cell_type": "markdown",
   "metadata": {},
   "source": [
    "### New petition approval and denial fields\n",
    "Add additional columns for total approval, denials, and overall petitions"
   ]
  },
  {
   "cell_type": "code",
   "execution_count": 4,
   "metadata": {},
   "outputs": [],
   "source": [
    "# Convert petitions columns to numeric\n",
    "approval_cols = ['Initial Approval', 'Continuing Approval']\n",
    "denial_cols = ['Initial Denial', 'Continuing Denial']\n",
    "\n",
    "for col in approval_cols + denial_cols:\n",
    "  uscis[col] = uscis[col].astype(int)"
   ]
  },
  {
   "cell_type": "code",
   "execution_count": 5,
   "metadata": {},
   "outputs": [],
   "source": [
    "uscis['Total Approval'] = uscis[approval_cols].sum(axis=1)\n",
    "uscis['Total Denial'] = uscis[denial_cols].sum(axis=1)\n",
    "uscis['Total Petitions'] = uscis[approval_cols + denial_cols].sum(axis=1)"
   ]
  },
  {
   "cell_type": "markdown",
   "metadata": {},
   "source": [
    "### Standardize employer names and identify outsourcing companies\n",
    "Since the data reflects exactly what the petitioner submits on [Form I-129](https://www.uscis.gov/i-129), company names may differ slightly, e.g., \"Google\" and \"Google Inc.\", or \"Facebook\" and \"Meta Platforms\". Usually a single company name will capture most of the petitions, but to be sure to include petitions I created regex terms to search employer names so that slight variations are also included in the total petition counts. This method might accidentally include some false positives, inflating the total position count. But for the ~50 companies I checked, mis-identified companies were <1% of the total petitions. There's also a chance that this method may miss some company name variations.  \n",
    "\n",
    "I also flag companies that have outsouring business models. These companies are either taken directly from [previous](https://www.epi.org/blog/tech-and-outsourcing-companies-continue-to-exploit-the-h-1b-visa-program-at-a-time-of-mass-layoffs-the-top-30-h-1b-employers-hired-34000-new-h-1b-workers-in-2022-and-laid-off-at-least-85000-workers/) [analyses](https://www.nytimes.com/interactive/2015/11/06/us/outsourcing-companies-dominate-h1b-visas.html?smid=tw-share) or identified manually using the same criteria as past reports.  \n",
    "\n",
    "Both standardized names regex and outsourcing flags are captured in the file `employer_search.csv`"
   ]
  },
  {
   "cell_type": "code",
   "execution_count": 6,
   "metadata": {},
   "outputs": [],
   "source": [
    "# Load company-level parameters\n",
    "# This includes the regex patterns for each employer name\n",
    "employer_params = pd.read_csv(parameters_dir + employer_params_filename, index_col='employer')"
   ]
  },
  {
   "cell_type": "code",
   "execution_count": 7,
   "metadata": {},
   "outputs": [],
   "source": [
    "# Define a function to standardize company names for the top petitioners\n",
    "# The function compares the name provided on the form with a regex expression and returns a standardized company name if there is a match\n",
    "def standardize_employer_name(employer_name):\n",
    "  for standardized_name, search_term in employer_params.to_dict()['search_term'].items():\n",
    "    if pd.isna(employer_name):\n",
    "      return employer_name\n",
    "    if re.search(search_term, employer_name, flags=re.IGNORECASE):\n",
    "      return standardized_name\n",
    "  return employer_name"
   ]
  },
  {
   "cell_type": "code",
   "execution_count": 8,
   "metadata": {},
   "outputs": [],
   "source": [
    "# Standardize employer names\n",
    "uscis['Employer (original name)'] = uscis['Employer']\n",
    "uscis['Employer'] = uscis['Employer (original name)'].apply(standardize_employer_name)"
   ]
  },
  {
   "cell_type": "code",
   "execution_count": 9,
   "metadata": {},
   "outputs": [],
   "source": [
    "# Add flag outsourcing companies (only for top petitioners)\n",
    "# employer_params = (\n",
    "#   employer_params\n",
    "#     .loc[slice(None), ['outsourcing', 'top_outsourcing']]\n",
    "#     .rename(columns={\n",
    "#       'outsourcing': 'Outsourcing', \n",
    "#       'top_outsourcing': 'Top Outsourcing'\n",
    "#     })\n",
    "# )\n",
    "# uscis = uscis.set_index('Employer').join(\n",
    "#   employer_params,\n",
    "#   how='left',\n",
    "#   validate='m:1'\n",
    "#   ).reset_index()"
   ]
  },
  {
   "cell_type": "code",
   "execution_count": 10,
   "metadata": {},
   "outputs": [],
   "source": [
    "# Save file\n",
    "uscis.to_csv(output_dir + output_filename, index=False)"
   ]
  },
  {
   "cell_type": "code",
   "execution_count": null,
   "metadata": {},
   "outputs": [],
   "source": []
  }
 ],
 "metadata": {
  "kernelspec": {
   "display_name": "Python 3 (ipykernel)",
   "language": "python",
   "name": "python3"
  },
  "language_info": {
   "codemirror_mode": {
    "name": "ipython",
    "version": 3
   },
   "file_extension": ".py",
   "mimetype": "text/x-python",
   "name": "python",
   "nbconvert_exporter": "python",
   "pygments_lexer": "ipython3",
   "version": "3.12.2"
  }
 },
 "nbformat": 4,
 "nbformat_minor": 4
}
