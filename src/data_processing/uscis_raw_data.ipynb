{
 "cells": [
  {
   "cell_type": "markdown",
   "metadata": {},
   "source": [
    "# USCIS H-1B Data: Import raw data from the data hub\n",
    "**Source:** [H-1B Employer Data Hub ](https://www.uscis.gov/tools/reports-and-studies/h-1b-employer-data-hub)  \n",
    "**Documentation:** [Understanding Our H-1B Employer Data Hub](https://www.uscis.gov/tools/reports-and-studies/h-1b-employer-data-hub/understanding-our-h-1b-employer-data-hub)  \n",
    "\n",
    "Before running this script you'll need to visit the [H-1B Employer Data Hub](https://www.uscis.gov/tools/reports-and-studies/h-1b-employer-data-hub) and download CSV files for the years you're interested in exploring and save them in `/data/raw/`. One file per year. The files will download with the name `Employer Information <YYYY>.csv`\n",
    "\n",
    "Notes:  \n",
    " - The [H-1B Employer Data Hub Files](https://www.uscis.gov/tools/reports-and-studies/h-1b-employer-data-hub/h-1b-employer-data-hub-files) states that the files on this page were last updated 2021-01-08. They do not contain the most up-to-date data. The most recent data is on the [H-1B Employer Data Hub](https://www.uscis.gov/tools/reports-and-studies/h-1b-employer-data-hub).\n",
    " - From the documentation: \"The counts of initial approval, initial denial, continuing approval, and continuing denial are aggregated by distinct completion fiscal year, two digit NAICS code, tax ID, state, city, and ZIP code. For example, one employer with multiple addresses in a given fiscal year will have multiple rows in the data. The most common spelling of employer name per unique tax ID is used.\" See documentaiton for more details."
   ]
  },
  {
   "cell_type": "code",
   "execution_count": 1,
   "metadata": {},
   "outputs": [],
   "source": [
    "# Import packages\n",
    "import pandas as pd"
   ]
  },
  {
   "cell_type": "code",
   "execution_count": 4,
   "metadata": {},
   "outputs": [],
   "source": [
    "# Define parameters\n",
    "data_dir = '../../data/'\n",
    "input_dir = data_dir + 'raw/'\n",
    "input_filename_base = 'Employer Information '\n",
    "output_dir = data_dir + 'intermediate/'\n",
    "output_filename = 'uscis_intermediate.csv'\n",
    "\n",
    "years = list(range(2009, 2023+1))\n",
    "\n",
    "dtypes = {\n",
    "  'Line by line': int,\n",
    "  'Fiscal Year': int,\n",
    "  'Employer (Petitioner) Name': str,\n",
    "  'Tax ID': str,\n",
    "  'Industry (NAICS) Code': str,\n",
    "  'Petitioner City': str,\n",
    "  'Petitioner State': str,\n",
    "  'Petitioner Zip Code': str,\n",
    "  'Initial Approval': int,\n",
    "  'Initial Denial':  int,\n",
    "  'Continuing Approval': int,\n",
    "  'Continuing Denial': int\n",
    "}\n",
    "\n",
    "column_rename = {\n",
    "  'Fiscal Year   ': 'Fiscal Year', \n",
    "  'Employer (Petitioner) Name': 'Employer',\n",
    "  'Industry (NAICS) Code': 'NAICS Code'\n",
    "  }"
   ]
  },
  {
   "cell_type": "code",
   "execution_count": 5,
   "metadata": {},
   "outputs": [],
   "source": [
    "# Load USCIS data\n",
    "dfs = []\n",
    "for year in years:\n",
    "  df = pd.read_table(\n",
    "    filepath_or_buffer = input_dir + input_filename_base + str(year) + '.csv',\n",
    "    sep = '\\t',\n",
    "    encoding = 'utf-16',\n",
    "    dtype = dtypes,\n",
    "    thousands = ','\n",
    "  )\n",
    "\n",
    "  # Drop the index column from the table\n",
    "  df.drop('Line by line', axis=1, inplace=True)\n",
    "\n",
    "  # Standardize column names\n",
    "  df = df.rename(columns=column_rename)\n",
    "\n",
    "  # Check that file contains data for only the specified fiscal year\n",
    "  if df['Fiscal Year'].unique().tolist() != [year]:\n",
    "    raise Exception('Found more than one fiscal year in file')\n",
    "  \n",
    "  dfs.append(df)\n",
    "\n",
    "uscis = pd.concat(dfs)"
   ]
  },
  {
   "cell_type": "code",
   "execution_count": 13,
   "metadata": {},
   "outputs": [],
   "source": [
    "# Save file\n",
    "uscis.to_csv(output_dir + output_filename, index=False)"
   ]
  },
  {
   "cell_type": "code",
   "execution_count": null,
   "metadata": {},
   "outputs": [],
   "source": []
  }
 ],
 "metadata": {
  "kernelspec": {
   "display_name": "Python 3 (ipykernel)",
   "language": "python",
   "name": "python3"
  },
  "language_info": {
   "codemirror_mode": {
    "name": "ipython",
    "version": 3
   },
   "file_extension": ".py",
   "mimetype": "text/x-python",
   "name": "python",
   "nbconvert_exporter": "python",
   "pygments_lexer": "ipython3",
   "version": "3.12.2"
  }
 },
 "nbformat": 4,
 "nbformat_minor": 4
}
