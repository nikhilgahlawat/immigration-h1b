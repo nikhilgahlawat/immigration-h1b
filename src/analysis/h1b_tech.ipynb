{
 "cells": [
  {
   "cell_type": "markdown",
   "id": "cbd4c71f-fd3e-4bc4-a832-bc58f4fd4799",
   "metadata": {},
   "source": [
    "# H-1B Visas Article"
   ]
  },
  {
   "cell_type": "markdown",
   "id": "0c205dd9-a296-4e5c-8f2c-8a061a95ead8",
   "metadata": {},
   "source": [
    "Results are in the [H-1B Visa Datasheet](https://docs.google.com/spreadsheets/d/1kO5vxEbIkr2X15clL980FAXCyMWD5yVGwkebyssDDa0/edit?gid=0#gid=0)"
   ]
  },
  {
   "cell_type": "markdown",
   "id": "de11aeb4-4a4c-49f9-93db-41a0fb00f615",
   "metadata": {},
   "source": [
    "## Script Setup"
   ]
  },
  {
   "cell_type": "code",
   "execution_count": 1,
   "id": "8c2761fd-e91d-4124-adf8-0c5a61d6acac",
   "metadata": {},
   "outputs": [],
   "source": [
    "# Load packages\n",
    "import pandas as pd\n",
    "import numpy as np\n",
    "pd.set_option('display.max_columns', None)"
   ]
  },
  {
   "cell_type": "code",
   "execution_count": 2,
   "id": "102b62e9-5572-42cc-beae-1fad9cb27703",
   "metadata": {},
   "outputs": [],
   "source": [
    "# Define functions\n",
    "def value_dist(series, dropna=False):\n",
    "  counts = series.value_counts(dropna=dropna)\n",
    "  shares = series.value_counts(dropna=dropna, normalize=True)\n",
    "  result = pd.DataFrame({'count': counts, 'share': shares})\n",
    "  return result"
   ]
  },
  {
   "cell_type": "code",
   "execution_count": 6,
   "id": "ef76552f-1aec-495e-bd41-4f8f2c33528c",
   "metadata": {},
   "outputs": [],
   "source": [
    "# Filenames and parameters\n",
    "data_dir = '../../data/analysis/'\n",
    "parameters_dir = '../../data/parameters/'\n",
    "uscis_filename = 'uscis.csv'\n",
    "lca_filename = 'lca.csv'\n",
    "\n",
    "h1b_cap = 85000\n",
    "industry_flags = ['tech', 'semiconductor', 'ai', 'it_services', 'professional_services', 'software',]\n",
    "company_flags = industry_flags + ['outsourcing']"
   ]
  },
  {
   "cell_type": "code",
   "execution_count": 7,
   "id": "82e9af15-d49e-49b8-bc36-8715593218b8",
   "metadata": {},
   "outputs": [],
   "source": [
    "# Variables for aggregation\n",
    "approval_cols = ['Initial Approval', 'Continuing Approval', 'Total Approval']\n",
    "denial_cols = ['Initial Denial', 'Continuing Denial', 'Total Denial']\n",
    "petition_cols = approval_cols + denial_cols + ['Total Petitions']\n",
    "\n",
    "def create_agg(cols, agg):\n",
    "  dict = {}\n",
    "  for col in cols:\n",
    "    dict[col] = agg\n",
    "  return dict\n",
    "\n",
    "def create_sum(cols):\n",
    "  return create_agg(cols, 'sum')\n",
    "\n",
    "approval_sum = create_sum(approval_cols)\n",
    "denial_sum = create_sum(denial_cols)\n",
    "petition_sum = create_sum(petition_cols)"
   ]
  },
  {
   "cell_type": "markdown",
   "id": "6db53a9a-1462-448a-ba9b-57a4ebfa24f6",
   "metadata": {},
   "source": [
    "## Load Data"
   ]
  },
  {
   "cell_type": "markdown",
   "id": "5fe1a3a8-f675-49ce-831a-1a3ca6a54b4e",
   "metadata": {},
   "source": [
    "### Employer Characteristics"
   ]
  },
  {
   "cell_type": "code",
   "execution_count": 8,
   "id": "93a65979-2597-42bc-95b4-661d852d6405",
   "metadata": {},
   "outputs": [],
   "source": [
    "# Company data from CompanyMarketCap\n",
    "marketcap = pd.read_csv(\n",
    "  parameters_dir + 'CompaniesMarketCap - All Companies.csv',\n",
    "  usecols = ['name', 'country', 'employee_count'] + industry_flags\n",
    ")"
   ]
  },
  {
   "cell_type": "code",
   "execution_count": 9,
   "id": "cd9e04ae-421d-4e22-aec7-61c0d7524d26",
   "metadata": {},
   "outputs": [],
   "source": [
    "# Company data assembled manually, including outsourcing flag\n",
    "employer_params = pd.read_csv(parameters_dir + 'employer_params.csv', usecols=['employer', 'outsourcing', 'employee_count', 'in_market_cap_data', 'tech'])"
   ]
  },
  {
   "cell_type": "code",
   "execution_count": null,
   "id": "26a5fc4a-c4fe-4229-8e1d-f9d8bccd5e5f",
   "metadata": {},
   "outputs": [],
   "source": [
    "# Create a single dataset with employer characteristics\n",
    "employers = (\n",
    "  employer_params.set_index('employer')\n",
    "    .join(\n",
    "      other = marketcap.rename(columns={'name':'employer'}).set_index('employer')\n",
    "      , how = 'outer'\n",
    "      , lsuffix = '_params'\n",
    "      , rsuffix = '_marketcap'\n",
    "      , validate = '1:1'\n",
    "    )\n",
    ")\n",
    "\n",
    "# Create the final tech flag. This flags a few additional companies as tech which are not in the CompaniesMarketCap data (e.g. LinkedIn, Yahoo)\n",
    "employers['tech'] = employers['tech_marketcap'].combine_first(employers['tech_params'])\n",
    "\n",
    "# Create the final employee_count field. The _params field contains data from CompaniesMarketCap as well as employee counts gathered from other sources (e.g. Wikipedia)\n",
    "employers['employee_count'] = employers['employee_count_params'].combine_first(employers['employee_count_marketcap'])\n",
    "\n",
    "# Drop columns\n",
    "employers.drop(['tech_params', 'tech_marketcap', 'employee_count_params', 'employee_count_marketcap'], axis=1, inplace=True)"
   ]
  },
  {
   "cell_type": "code",
   "execution_count": null,
   "id": "ddfa60de-f0fd-4628-9604-84493ac63181",
   "metadata": {},
   "outputs": [],
   "source": [
    "# Remove old files\n",
    "del(marketcap, employer_params)"
   ]
  },
  {
   "cell_type": "markdown",
   "id": "2db9ab54-7e52-4507-ba18-a1c35167e15a",
   "metadata": {},
   "source": [
    "### LCA: Labor Conditions Applications"
   ]
  },
  {
   "cell_type": "code",
   "execution_count": null,
   "id": "9705d15c-f5ce-477e-a2ce-0f44e6d4589f",
   "metadata": {},
   "outputs": [],
   "source": [
    "lca_cols = {\n",
    "  'CASE_NUMBER': 'str',\n",
    "  'DATAFILE_YEAR': 'int',\n",
    "  'EMPLOYER_NAME': 'str',\n",
    "  'H_1B_DEPENDENT': 'str',\n",
    "  # 'JOB_TITLE'': ',\n",
    "  # 'SOC_CODE'': ',\n",
    "  # 'SOC_TITLE'': ',\n",
    "  'TOTAL_WORKER_POSITIONS': 'float',\n",
    "  'NEW_EMPLOYMENT': 'float',\n",
    "  'CONTINUED_EMPLOYMENT': 'float',\n",
    "  'CHANGE_PREVIOUS_EMPLOYMENT': 'float',\n",
    "  'NEW_CONCURRENT_EMPLOYMENT': 'float',\n",
    "  'CHANGE_EMPLOYER': 'float',\n",
    "  'AMENDED_PETITION': 'float',\n",
    "  'FULL_TIME_POSITION': 'str',\n",
    "  'VISA_CLASS': 'str',\n",
    "  'NAICS_CODE': 'str',\n",
    "  'WAGE_ANNUAL_FROM': 'float',\n",
    "  'WAGE_ANNUAL_TO': 'float',\n",
    "  'PW_ANNUAL': 'float',\n",
    "  'PW_WAGE_LEVEL': 'str'\n",
    "}"
   ]
  },
  {
   "cell_type": "code",
   "execution_count": null,
   "id": "e6d3607a-358f-4843-982e-d1dac656a683",
   "metadata": {},
   "outputs": [],
   "source": [
    "# Load LCA data\n",
    "lca = pd.read_csv(data_dir + lca_filename, usecols=lca_cols.keys(), dtype=lca_cols)"
   ]
  },
  {
   "cell_type": "code",
   "execution_count": null,
   "id": "4622acc5-39c0-455b-8ffb-f41860881f4f",
   "metadata": {},
   "outputs": [],
   "source": [
    "# Amend LCA data with employer characteristics\n",
    "lca = (\n",
    "  lca.set_index('EMPLOYER_NAME')\n",
    "    .join(\n",
    "      other = employers.loc[:, ['country', 'employee_count'] + company_flags],\n",
    "      how = 'left',\n",
    "      validate = 'm:1'\n",
    "    )\n",
    "  .reset_index()\n",
    "  .set_index('CASE_NUMBER')\n",
    ")"
   ]
  },
  {
   "cell_type": "markdown",
   "id": "cde70fa3-ede7-4519-97b8-23aa58b1e5f2",
   "metadata": {},
   "source": [
    "### USCIS: US Citizenship and Immigration Servies"
   ]
  },
  {
   "cell_type": "code",
   "execution_count": null,
   "id": "f180df8b-bcbf-41b5-8173-abea1f851aff",
   "metadata": {},
   "outputs": [],
   "source": [
    "# Load USCIS data\n",
    "uscis = pd.read_csv(data_dir + uscis_filename)"
   ]
  },
  {
   "cell_type": "code",
   "execution_count": null,
   "id": "e5f93ed1-1da5-4f67-9e94-301c02e2303c",
   "metadata": {},
   "outputs": [],
   "source": [
    "# Amend USCIS dataset with employer characteristics\n",
    "uscis = (\n",
    "  uscis.set_index('Employer')\n",
    "    .join(\n",
    "      other = employers.loc[:, ['country', 'employee_count'] + company_flags],\n",
    "      how = 'left',\n",
    "      validate = 'm:1'\n",
    "    )\n",
    "    .reset_index()\n",
    ")"
   ]
  },
  {
   "cell_type": "markdown",
   "id": "8dc0a674-ce7a-4c0f-a451-8adebce4da40",
   "metadata": {},
   "source": [
    "IBM is categorized as both a tech company and an outsourcing company. To simplify our analysis, we'll categorize it only as an outsourcing company. That way it doesn't appear in both tech and outsourcing categories when we compare the two groups. This is consistent with previous analyses from other sources (see reports from the [Economic Policy Institute](https://www.epi.org/publication/h-1b-visas-and-prevailing-wage-levels/) and the [New York Times](https://www.nytimes.com/interactive/2015/11/06/us/outsourcing-companies-dominate-h1b-visas.html))."
   ]
  },
  {
   "cell_type": "code",
   "execution_count": null,
   "id": "a50437a7-e3b8-4010-b509-65e489facaa3",
   "metadata": {},
   "outputs": [],
   "source": [
    "uscis.loc[uscis['Employer'] == 'IBM', 'tech'] = 0"
   ]
  },
  {
   "cell_type": "code",
   "execution_count": null,
   "id": "5cd28fe3-6863-4b70-b445-6aa69236a766",
   "metadata": {},
   "outputs": [],
   "source": [
    "lca.loc[lca['EMPLOYER_NAME'] == 'IBM', 'tech'] = 0"
   ]
  },
  {
   "cell_type": "markdown",
   "id": "7f10d884-ffce-4d81-acf8-9d73c21435e4",
   "metadata": {},
   "source": [
    "Similarly, Nvidia is categorized as both a semiconductor company and an AI company. To simplify the analysis, we'll take the stance that it's not an AI company per se but a semiconductor company that is a supplier to the AI industry."
   ]
  },
  {
   "cell_type": "code",
   "execution_count": null,
   "id": "2c4afe95-c5f7-4dc1-b8b6-35c571160eb7",
   "metadata": {},
   "outputs": [],
   "source": [
    "uscis.loc[uscis['Employer'] == 'Nvidia', 'ai'] = 0"
   ]
  },
  {
   "cell_type": "code",
   "execution_count": null,
   "id": "123bda16-7a77-492b-a6fd-5a11859afb84",
   "metadata": {},
   "outputs": [],
   "source": [
    "lca.loc[lca['EMPLOYER_NAME'] == 'Nvidia', 'ai'] = 0"
   ]
  },
  {
   "cell_type": "markdown",
   "id": "72b28a16-7fbe-4e36-9b31-56466026a540",
   "metadata": {},
   "source": [
    "### H-1B Dependent Companies"
   ]
  },
  {
   "cell_type": "code",
   "execution_count": null,
   "id": "a92464ac-ec0e-40ab-aff2-3d3f6a298fcb",
   "metadata": {},
   "outputs": [],
   "source": [
    "# Dataset will contain one row per company-year and a flag for whether the company declared H-1B dependency in that year\n",
    "# Note that H-1B dependency status is only available for 2015 onward\n",
    "h1b_dependency = (\n",
    "  lca\n",
    "    .loc[:, ['EMPLOYER_NAME', 'DATAFILE_YEAR', 'H_1B_DEPENDENT']]\n",
    "    .drop_duplicates()\n",
    "    .rename(columns={'EMPLOYER_NAME':'Employer', 'DATAFILE_YEAR': 'Fiscal Year', 'H_1B_DEPENDENT': 'dependency_vals'})\n",
    "    .reset_index(drop=True)\n",
    "    .groupby(['Employer', 'Fiscal Year'])\n",
    "    ['dependency_vals'].apply(set)\n",
    "    .to_frame()\n",
    "    .reset_index()\n",
    ")\n",
    "\n",
    "def get_h1b_dependency(x):\n",
    "  if 'Y' in x:\n",
    "    return 1\n",
    "  elif 'N' in x:\n",
    "    return 0\n",
    "  else:\n",
    "    return pd.NA\n",
    "\n",
    "h1b_dependency['H-1B Dependent'] = h1b_dependency['dependency_vals'].apply(get_h1b_dependency)\n",
    "h1b_dependency.drop('dependency_vals', axis=1, inplace=True)"
   ]
  },
  {
   "cell_type": "markdown",
   "id": "1c34809e-eb32-4200-a7c7-89c45c32b672",
   "metadata": {},
   "source": [
    "## Analysis"
   ]
  },
  {
   "cell_type": "markdown",
   "id": "0583859d-675a-4638-8a2b-c4af7d51e26a",
   "metadata": {},
   "source": [
    "USCIS petition approvals and denials by year"
   ]
  },
  {
   "cell_type": "code",
   "execution_count": null,
   "id": "16fc14a6-a675-4c1c-8d74-759fc2b92a03",
   "metadata": {},
   "outputs": [],
   "source": [
    "temp = uscis.groupby('Fiscal Year').agg(petition_sum)\n",
    "temp['Initial Denial Rate'] = temp['Initial Denial'] / (temp['Initial Approval'] + temp['Initial Denial'])\n",
    "temp['Continuing Denial Rate'] = temp['Continuing Denial'] / (temp['Continuing Approval'] + temp['Continuing Denial'])\n",
    "temp['Total Denial Rate'] = temp['Total Denial'] / (temp['Total Approval'] + temp['Total Denial'])\n",
    "temp.to_clipboard()\n",
    "temp"
   ]
  },
  {
   "cell_type": "markdown",
   "id": "b4123d79-7680-4686-8a24-a579cf990de0",
   "metadata": {},
   "source": [
    "USCIS petition approvals and denials by employer type: Tech and Outsourcing"
   ]
  },
  {
   "cell_type": "code",
   "execution_count": null,
   "id": "b3050875-2980-4d7d-9b54-47d820578d42",
   "metadata": {},
   "outputs": [],
   "source": [
    "temp = (\n",
    "  uscis\n",
    "    .fillna(0)\n",
    "    .groupby(['tech', 'outsourcing'], dropna=False, as_index=False)\n",
    "    .agg(petition_sum)\n",
    ")\n",
    "temp['Employer Type'] = np.select(\n",
    "  [\n",
    "    (temp['tech'] == 0) & (temp['outsourcing'] == 0),\n",
    "    (temp['tech'] == 1) & (temp['outsourcing'] == 0),\n",
    "    (temp['tech'] == 0) & (temp['outsourcing'] == 1),\n",
    "    (temp['tech'] == 1) & (temp['outsourcing'] == 1)\n",
    "  ], \n",
    "  ['Other', 'Tech', 'Outsourcing', 'Both']\n",
    ")\n",
    "temp.drop(['tech', 'outsourcing'], axis=1, inplace=True)\n",
    "\n",
    "temp.to_clipboard(index=False)\n",
    "temp"
   ]
  },
  {
   "cell_type": "markdown",
   "id": "a4344324-f65f-4a3f-bed0-66254cd2ce18",
   "metadata": {},
   "source": [
    "USCIS petitions approvals and denials over time by employer type: Tech and Outsourcing"
   ]
  },
  {
   "cell_type": "code",
   "execution_count": null,
   "id": "c6d3003e-0289-4361-a551-0e87245f5c78",
   "metadata": {},
   "outputs": [],
   "source": [
    "temp = (\n",
    "  uscis\n",
    "    .fillna(0)\n",
    "    .groupby(['tech', 'outsourcing', 'Fiscal Year'], dropna=False, as_index=False)\n",
    "    .agg(petition_sum)\n",
    ")\n",
    "temp['Employer Type'] = np.select(\n",
    "  [\n",
    "    (temp['tech'] == 0) & (temp['outsourcing'] == 0),\n",
    "    (temp['tech'] == 1) & (temp['outsourcing'] == 0),\n",
    "    (temp['tech'] == 0) & (temp['outsourcing'] == 1),\n",
    "    (temp['tech'] == 1) & (temp['outsourcing'] == 1)\n",
    "  ], \n",
    "  ['Other', 'Tech', 'Outsourcing', 'Both']\n",
    ")\n",
    "temp.drop(['tech', 'outsourcing'], axis=1, inplace=True)\n",
    "\n",
    "temp.to_clipboard(index=False)\n",
    "temp"
   ]
  },
  {
   "cell_type": "markdown",
   "id": "1d6d887b-1e7f-4f68-a15a-9499d8e1d7d4",
   "metadata": {},
   "source": [
    "USCIS petitions by company"
   ]
  },
  {
   "cell_type": "code",
   "execution_count": null,
   "id": "86d5e14e-a0da-49f1-8a34-66e02ce266ca",
   "metadata": {},
   "outputs": [],
   "source": [
    "# Which companies use the H-1B program the most (from 2009-2023)\n",
    "# Limit to the top 200 employers\n",
    "nyears = uscis['Fiscal Year'].drop_duplicates().shape[0]\n",
    "\n",
    "temp = (\n",
    "  uscis\n",
    "    .groupby(['Employer'] + company_flags, dropna=False)\n",
    "    .agg(approval_sum)\n",
    "    .sort_values('Total Approval', ascending=False)\n",
    "    # .head(200)\n",
    "    .reset_index()\n",
    "    .fillna(0)\n",
    ")\n",
    "# temp['Share of Cap'] = temp['Initial Approval'] / (h1b_cap * nyears)\n",
    "# temp['Share of Cap Sum'] = temp['Share of Cap'].cumsum()\n",
    "temp['Share of Total Approval'] = temp['Total Approval'] / temp['Total Approval'].sum()\n",
    "temp['Share of Total Approval Sum'] = temp['Share of Total Approval'].cumsum()\n",
    "temp['Tech or Outsourcing'] = temp.apply(lambda row: 1 if row['tech']==1 or row['outsourcing'] == 1 else 0, axis=1)\n",
    "temp.head(200).to_clipboard(index=False)\n",
    "temp.head(200)"
   ]
  },
  {
   "cell_type": "markdown",
   "id": "611ce6c4-45b7-4434-a5d1-ccecb6e0598d",
   "metadata": {},
   "source": [
    "USCIS petition approvals by company-year"
   ]
  },
  {
   "cell_type": "code",
   "execution_count": null,
   "id": "9d3957cc-b654-40e1-8388-701caf3886ad",
   "metadata": {},
   "outputs": [],
   "source": [
    "# Limit the list to the 100 biggest users of the program\n",
    "top_employers = (\n",
    "  uscis\n",
    "    .groupby('Employer')\n",
    "    .agg(petition_sum)\n",
    "    .sort_values('Total Approval', ascending=False)\n",
    "    .head(100)\n",
    "    .index\n",
    "    .tolist()\n",
    ")"
   ]
  },
  {
   "cell_type": "code",
   "execution_count": null,
   "id": "8833dc55-0071-47ee-bba0-d3e48cdccbde",
   "metadata": {},
   "outputs": [],
   "source": [
    "temp = (\n",
    "  uscis\n",
    "    .loc[uscis['Employer'].isin(top_employers), :]\n",
    "    .groupby(['Employer', 'Fiscal Year'] + company_flags)\n",
    "    .agg(approval_sum)\n",
    "    .reset_index()\n",
    ")\n",
    "temp['Share of Cap'] = temp['Initial Approval'] / h1b_cap\n",
    "temp['Tech or Outsourcing'] = temp.apply(lambda row: 1 if row['tech']==1 or row['outsourcing'] == 1 else 0, axis=1)\n",
    "temp = temp.sort_values(['Fiscal Year', 'Total Approval'], ascending=[True, False])\n",
    "temp.to_clipboard(index=False)\n",
    "temp"
   ]
  },
  {
   "cell_type": "markdown",
   "id": "e9915bb6-73e6-46ed-b863-21d7ca5d3b79",
   "metadata": {},
   "source": [
    "USCIS petitions approvals and denials over time by employer type: AI and Semiconductors"
   ]
  },
  {
   "cell_type": "code",
   "execution_count": null,
   "id": "6dab66a8-003e-46f9-9fdc-f7dfc6f224ec",
   "metadata": {},
   "outputs": [],
   "source": [
    "temp = (\n",
    "  uscis\n",
    "    .fillna(0)\n",
    "    .loc[(uscis['ai'] == 1) | uscis['semiconductor'] == 1]\n",
    "    .groupby(['ai', 'semiconductor', 'Fiscal Year'], dropna=False, as_index=False)\n",
    "    .agg(petition_sum)\n",
    ")\n",
    "\n",
    "temp['Employer Type'] = np.select(\n",
    "  [\n",
    "    (temp['ai'] == 0) & (temp['semiconductor'] == 0),\n",
    "    (temp['ai'] == 1) & (temp['semiconductor'] == 0),\n",
    "    (temp['ai'] == 0) & (temp['semiconductor'] == 1),\n",
    "    (temp['ai'] == 1) & (temp['semiconductor'] == 1)\n",
    "  ], \n",
    "  ['Neither', 'AI', 'Semiconductor', 'Both']\n",
    ")\n",
    "temp.drop(['ai', 'semiconductor'], axis=1, inplace=True)\n",
    "\n",
    "temp.to_clipboard(index=False)\n",
    "temp"
   ]
  },
  {
   "cell_type": "markdown",
   "id": "f319e0bc-10f1-4994-b27e-53625154b69f",
   "metadata": {},
   "source": [
    "AI companies"
   ]
  },
  {
   "cell_type": "code",
   "execution_count": null,
   "id": "a21ec2e4-db6b-4d7e-9e73-4444dd9f4a38",
   "metadata": {},
   "outputs": [],
   "source": [
    "temp = (\n",
    "  uscis\n",
    "    .loc[uscis['ai'] == 1, :]\n",
    "    .groupby(['Employer', 'Fiscal Year'] + company_flags)\n",
    "    .agg(approval_sum)\n",
    "    .reset_index()\n",
    ")\n",
    "temp = temp.sort_values(['Employer', 'Fiscal Year'], ascending=[True, False])\n",
    "\n",
    "temp = (\n",
    "  temp\n",
    "    .groupby('Employer')\n",
    "    .agg(approval_sum)\n",
    "    .loc[:, ['Total Approval']]\n",
    "    .rank(ascending=False)\n",
    "    .rename(columns={'Total Approval': 'Rank'})\n",
    "    .join(temp.set_index('Employer'))\n",
    "    .sort_values(['Rank', 'Fiscal Year'])\n",
    ")\n",
    "\n",
    "temp.to_clipboard()\n",
    "temp"
   ]
  },
  {
   "cell_type": "markdown",
   "id": "6f9ce1c0-5c4e-40ca-8604-d418ffa38da8",
   "metadata": {},
   "source": [
    "Software companies"
   ]
  },
  {
   "cell_type": "code",
   "execution_count": null,
   "id": "be1333d9-5b7f-40fb-a769-bc0a9bf83aa2",
   "metadata": {},
   "outputs": [],
   "source": [
    "temp = (\n",
    "  uscis\n",
    "    .fillna(0)\n",
    "    .loc[(uscis['ai'] == 1) | uscis['semiconductor'] == 1]\n",
    "    .groupby(['software','Fiscal Year'], dropna=False, as_index=False)\n",
    "    .agg(petition_sum)\n",
    ")\n",
    "\n",
    "temp.to_clipboard(index=False)\n",
    "temp"
   ]
  },
  {
   "cell_type": "markdown",
   "id": "962d532a-2a52-4994-99d4-50da312f9eaf",
   "metadata": {},
   "source": [
    "USCIS petition denial rates by year"
   ]
  },
  {
   "cell_type": "code",
   "execution_count": null,
   "id": "df766977-9fb8-46e4-8396-34cd097c8278",
   "metadata": {},
   "outputs": [],
   "source": [
    "# Calculating denial rates\n",
    "def calc_denials(df):\n",
    "  d = df.groupby('Fiscal Year').agg(petition_sum)\n",
    "  d['Denial Rate'] = d['Total Denial'] / d['Total Petitions']\n",
    "  d['Initial Denial Rate'] = d['Initial Denial'] / (d['Initial Approval'] + d['Initial Denial'])\n",
    "  d['Continuing Denial Rate'] = d['Continuing Denial'] / (d['Continuing Approval'] + d['Continuing Denial'])\n",
    "  return d"
   ]
  },
  {
   "cell_type": "code",
   "execution_count": null,
   "id": "1b62375b-2693-4e15-bcd7-770622328b56",
   "metadata": {},
   "outputs": [],
   "source": [
    "# Denial rate by year\n",
    "denials = calc_denials(uscis)\n",
    "denials_outsourcing = calc_denials(uscis[uscis['outsourcing'] == 1])\n",
    "denials_tech = calc_denials(uscis[uscis['tech'] == 1])\n",
    "denials_other = calc_denials(uscis[(uscis['tech'] == 0) & (uscis['outsourcing'] == 0)])\n",
    "\n",
    "denials = (\n",
    "  denials\n",
    "    .join(denials_outsourcing, rsuffix=' - Outsourcing')\n",
    "    .join(denials_tech, rsuffix=' - Tech')\n",
    "    .join(denials_other, rsuffix=' - Other')\n",
    "    .sort_index()\n",
    ")\n",
    "# denials[['Denial Rate', 'Denial Rate - Outsourcing', 'Denial Rate - Tech']]\n",
    "\n",
    "denials.to_clipboard()\n",
    "denials"
   ]
  },
  {
   "cell_type": "markdown",
   "id": "dfd87c09-906d-4c36-b6c5-bfcdbe7eb8ed",
   "metadata": {},
   "source": [
    "H-1B dependent companies"
   ]
  },
  {
   "cell_type": "markdown",
   "id": "140fbe4d-23fb-489f-bdee-4b89fcb2581f",
   "metadata": {},
   "source": [
    "Number of H-1B dependent organizations each year"
   ]
  },
  {
   "cell_type": "code",
   "execution_count": null,
   "id": "e245e071-c792-4dc9-b00a-362245b23640",
   "metadata": {},
   "outputs": [],
   "source": [
    "temp = h1b_dependency.groupby(['Fiscal Year', 'H-1B Dependent'], as_index=False).agg({'Employer': 'count'})\n",
    "temp['Employers'] = temp.groupby('Fiscal Year')['Employer'].transform('sum')\n",
    "temp = temp.loc[temp['H-1B Dependent'] == 1, :]\n",
    "temp['Share H-1B Dependent'] = temp['Employer'] / temp['Employers']\n",
    "temp.rename(columns={'Employer': 'H-1B Dependent Employers', 'Employers': 'All Employers'}, inplace=True)\n",
    "temp.drop('H-1B Dependent', axis=1, inplace=True)\n",
    "temp.to_clipboard(index=False)\n",
    "temp"
   ]
  },
  {
   "cell_type": "markdown",
   "id": "1c4b750a-db53-4bdf-ba38-40e14b70efa8",
   "metadata": {},
   "source": [
    "H-1B dependency status by company and company type"
   ]
  },
  {
   "cell_type": "code",
   "execution_count": null,
   "id": "1f9666ce-aaa4-4c71-8d3e-c9de08d0a031",
   "metadata": {},
   "outputs": [],
   "source": [
    "# Join H-1B dependency status with USCIS data\n",
    "h1b_dependency['employer_join'] = h1b_dependency['Employer'].str.lower().str.replace('[^a-z0-9]', '', regex=True)\n",
    "# h1b_join.drop('Employer', axis=1, inplace=True)\n",
    "\n",
    "uscis_h1b_dependency = uscis.groupby(['Employer', 'Fiscal Year', 'tech', 'outsourcing'], as_index=False).agg(petition_sum)\n",
    "uscis_h1b_dependency['employer_join'] = uscis_h1b_dependency['Employer'].str.lower().str.replace('[^a-z0-9]', '', regex=True)\n",
    "\n",
    "uscis_h1b_dependency = (\n",
    "  uscis_h1b_dependency\n",
    "  .set_index(['employer_join', 'Fiscal Year'])\n",
    "  .join(h1b_dependency.set_index(['employer_join', 'Fiscal Year']), how='left', rsuffix='_RIGHT')\n",
    "  .reset_index()\n",
    "  .drop(['employer_join', 'Employer_RIGHT'], axis=1)\n",
    ")\n",
    "\n",
    "# Filter to outsourcing and tech companies\n",
    "temp = (\n",
    "  uscis_h1b_dependency\n",
    "    .loc[\n",
    "      (\n",
    "        (uscis_h1b_dependency['tech'] == 1) | \n",
    "        (uscis_h1b_dependency['outsourcing'] == 1)\n",
    "      ) & \n",
    "      (uscis_h1b_dependency['Fiscal Year'] >= 2015),\n",
    "    :]\n",
    ")\n",
    "\n",
    "temp.to_clipboard(index=False)\n",
    "temp"
   ]
  },
  {
   "cell_type": "markdown",
   "id": "d2e6728d-0db3-4e47-9ed7-0655f4dd7e8e",
   "metadata": {},
   "source": [
    "Wages"
   ]
  },
  {
   "cell_type": "code",
   "execution_count": null,
   "id": "36333c4e-8330-4c92-91c2-422138490e6a",
   "metadata": {},
   "outputs": [],
   "source": [
    "# Prevailing wage levels for outsourcing vs tech\n",
    "# temp = lca.loc[(lca['outsourcing'] == 1) | (lca['tech'] == 1), :]\n",
    "temp = lca.copy()\n",
    "# temp.loc[:, ['group']] = pd.NA\n",
    "# temp.loc[temp['outsourcing'] == 1, 'group'] = 'Outsourcing'\n",
    "# temp.loc[temp['tech'] == 1, 'group'] = 'Tech'\n",
    "\n",
    "temp['group'] = np.select(\n",
    "  condlist = [\n",
    "    (temp['tech'] == 0) & (temp['outsourcing'] == 0),\n",
    "    (temp['tech'] == 1) & (temp['outsourcing'] == 0),\n",
    "    (temp['tech'] == 0) & (temp['outsourcing'] == 1),\n",
    "    (temp['tech'] == 1) & (temp['outsourcing'] == 1)\n",
    "  ],\n",
    "  choicelist = ['Other', 'Tech', 'Outsourcing', 'Both'],\n",
    "  default = 'Other'\n",
    ")\n",
    "\n",
    "temp = (\n",
    "  temp\n",
    "    .groupby(['group', 'DATAFILE_YEAR', 'PW_WAGE_LEVEL'])\n",
    "    .agg({'TOTAL_WORKER_POSITIONS': 'sum', 'PW_ANNUAL': 'median', 'WAGE_ANNUAL_FROM': 'median'})\n",
    "    .reset_index()\n",
    ")\n",
    "temp['group_workers'] = temp['TOTAL_WORKER_POSITIONS'] / temp.groupby(['group', 'DATAFILE_YEAR'])['TOTAL_WORKER_POSITIONS'].transform('sum')\n",
    "\n",
    "temp.to_clipboard(index=False)\n",
    "temp"
   ]
  },
  {
   "cell_type": "markdown",
   "id": "90c3ed7c-2ef2-42a1-9302-52912f2e9735",
   "metadata": {},
   "source": [
    "Number of employers  \n",
    "We'll find the number of employers that petitioned for and received at least one H-1B visa by counting the number of unique employer names in each year. We'll use the original employer name as recorded in the original USCIS data, not the standardized name created during the ingestion process.  \n",
    "This is an estimate, since the same employer often gets recorded with slight differences in their name. However, we're most interested in the change over time as opposed to the raw number.  \n",
    "We'll calculate it two ways: (1) counting unique employer names, (2) counting unique employer names and tax IDs"
   ]
  },
  {
   "cell_type": "code",
   "execution_count": null,
   "id": "68f1d074-b666-4591-ace7-4943118d12d9",
   "metadata": {},
   "outputs": [],
   "source": [
    "uscis.columns"
   ]
  },
  {
   "cell_type": "code",
   "execution_count": null,
   "id": "ee5d025c-ddd3-4724-8d5e-70b8f3737aba",
   "metadata": {},
   "outputs": [],
   "source": [
    "temp = uscis.groupby('Fiscal Year').agg(Employers = ('Employer (original name)', 'nunique'))\n",
    "\n",
    "temp.to_clipboard()\n",
    "temp"
   ]
  },
  {
   "cell_type": "markdown",
   "id": "643b186c-32a8-4016-8925-1b6eab9edc6c",
   "metadata": {},
   "source": [
    "Repeat using unique employer names and tax IDs"
   ]
  },
  {
   "cell_type": "code",
   "execution_count": null,
   "id": "02928114-9c70-4143-bb8e-1f24d3f3aae4",
   "metadata": {},
   "outputs": [],
   "source": [
    "temp = uscis.loc[:, ['Fiscal Year', 'Employer (original name)', 'Tax ID']].drop_duplicates().groupby('Fiscal Year').size()\n",
    "\n",
    "temp.to_clipboard()\n",
    "temp"
   ]
  },
  {
   "cell_type": "code",
   "execution_count": null,
   "id": "19dc7fb8-b57e-485f-956f-6c52699282c4",
   "metadata": {},
   "outputs": [],
   "source": []
  }
 ],
 "metadata": {
  "kernelspec": {
   "display_name": "Python 3 (ipykernel)",
   "language": "python",
   "name": "python3"
  },
  "language_info": {
   "codemirror_mode": {
    "name": "ipython",
    "version": 3
   },
   "file_extension": ".py",
   "mimetype": "text/x-python",
   "name": "python",
   "nbconvert_exporter": "python",
   "pygments_lexer": "ipython3",
   "version": "3.12.2"
  }
 },
 "nbformat": 4,
 "nbformat_minor": 5
}
