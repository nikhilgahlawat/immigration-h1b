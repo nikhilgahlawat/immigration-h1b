{
 "cells": [
  {
   "cell_type": "markdown",
   "id": "9a226efb-623b-4db4-ae90-bcde93cb3b55",
   "metadata": {},
   "source": [
    "# Methodology Summary\n",
    "Some additional code used in the [H-1B methodology summary](https://www.nikhilgahlawat.com/projects/h1b-tech-methodology/).\n",
    " See the post for the full write-up."
   ]
  },
  {
   "cell_type": "code",
   "execution_count": 1,
   "id": "6b3cde31-8c32-4798-9c45-afbfc789f8ba",
   "metadata": {},
   "outputs": [],
   "source": [
    "# Load packages\n",
    "import pandas as pd\n",
    "import numpy as np\n",
    "pd.set_option('display.max_columns', None)"
   ]
  },
  {
   "cell_type": "code",
   "execution_count": 8,
   "id": "1d1db6d4-eef4-44e5-b35d-d957902ca3d4",
   "metadata": {},
   "outputs": [],
   "source": [
    "# Filenames and parameters\n",
    "data_dir = '../../data/analysis/'\n",
    "parameters_dir = '../../data/parameters/'\n",
    "uscis_filename = 'uscis.csv'\n",
    "lca_filename = 'lca.csv'\n",
    "\n",
    "industry_flags = ['tech', 'semiconductors', 'artificial_intelligence', 'it_services', 'professional_services', 'software',]"
   ]
  },
  {
   "cell_type": "code",
   "execution_count": 3,
   "id": "9e02767f-17b3-4c05-9af6-c579b8330c04",
   "metadata": {
    "jupyter": {
     "source_hidden": true
    }
   },
   "outputs": [],
   "source": [
    "lca_cols = {\n",
    "  'CASE_NUMBER': 'str',\n",
    "  'DATAFILE_YEAR': 'int',\n",
    "  'EMPLOYER_NAME': 'str',\n",
    "  'H_1B_DEPENDENT': 'str',\n",
    "  # 'JOB_TITLE'': ',\n",
    "  # 'SOC_CODE'': ',\n",
    "  # 'SOC_TITLE'': ',\n",
    "  'TOTAL_WORKER_POSITIONS': 'float',\n",
    "  'NEW_EMPLOYMENT': 'float',\n",
    "  'CONTINUED_EMPLOYMENT': 'float',\n",
    "  'CHANGE_PREVIOUS_EMPLOYMENT': 'float',\n",
    "  'NEW_CONCURRENT_EMPLOYMENT': 'float',\n",
    "  'CHANGE_EMPLOYER': 'float',\n",
    "  'AMENDED_PETITION': 'float',\n",
    "  'FULL_TIME_POSITION': 'str',\n",
    "  'VISA_CLASS': 'str',\n",
    "  'NAICS_CODE': 'str',\n",
    "  'WAGE_ANNUAL_FROM': 'float',\n",
    "  'WAGE_ANNUAL_TO': 'float',\n",
    "  'PW_ANNUAL': 'float',\n",
    "  'PW_WAGE_LEVEL': 'str'\n",
    "}"
   ]
  },
  {
   "cell_type": "code",
   "execution_count": 4,
   "id": "fedf1659-9680-4e21-a8fa-365a6bc831ab",
   "metadata": {},
   "outputs": [],
   "source": [
    "lca = pd.read_csv(data_dir + lca_filename, usecols=lca_cols.keys(), dtype=lca_cols)"
   ]
  },
  {
   "cell_type": "code",
   "execution_count": 5,
   "id": "5c76956b-78ff-45a4-bb72-383299c5fcb7",
   "metadata": {},
   "outputs": [],
   "source": [
    "uscis = pd.read_csv(data_dir + uscis_filename)"
   ]
  },
  {
   "cell_type": "code",
   "execution_count": 9,
   "id": "2e6bf10b-499c-4fe0-8a42-3e298c9fd543",
   "metadata": {},
   "outputs": [],
   "source": [
    "marketcap = pd.read_csv(\n",
    "  parameters_dir + 'companiesmarketcap.csv',\n",
    "  usecols = ['Company', 'Country', 'Employees'] + industry_flags\n",
    ")"
   ]
  },
  {
   "cell_type": "code",
   "execution_count": 10,
   "id": "f07cd0fa-9817-487e-9ff9-8fbdb1a0ed49",
   "metadata": {},
   "outputs": [],
   "source": [
    "employer_params = pd.read_csv(parameters_dir + 'employer_params.csv', usecols=['employer', 'outsourcing', 'employee_count', 'in_market_cap_data', 'tech'])"
   ]
  },
  {
   "cell_type": "markdown",
   "id": "5e2dc890-9783-4245-b7b3-4f7d48a9b9f4",
   "metadata": {},
   "source": [
    "## Employer standardization"
   ]
  },
  {
   "cell_type": "markdown",
   "id": "527a363d-bd8a-4e9b-90ea-4fd4b4cf8eec",
   "metadata": {},
   "source": [
    "What share of total petitions are from the top 250 companies?"
   ]
  },
  {
   "cell_type": "code",
   "execution_count": 11,
   "id": "09b30fb1-e224-49b9-b961-b47c8e2ca8a1",
   "metadata": {},
   "outputs": [
    {
     "data": {
      "text/plain": [
       "0.4123680052592457"
      ]
     },
     "execution_count": 11,
     "metadata": {},
     "output_type": "execute_result"
    }
   ],
   "source": [
    "col = 'Total Petitions'\n",
    "petitions_by_employer = (\n",
    "  uscis\n",
    "    .groupby('Employer')\n",
    "    .agg({col: 'sum'}) \n",
    "    .sort_values(col, ascending=False)\n",
    ")\n",
    "petitions_by_employer['Rank'] = petitions_by_employer[col].rank(ascending=False)\n",
    "petitions_by_employer['Share'] = petitions_by_employer[col] / petitions_by_employer[col].sum()\n",
    "petitions_by_employer.loc[petitions_by_employer['Rank'] <= 250, 'Share'].sum()"
   ]
  },
  {
   "cell_type": "markdown",
   "id": "8b83fe7b-7c63-43ef-9bde-b67d36e27065",
   "metadata": {},
   "source": [
    "## NAICS Codes"
   ]
  },
  {
   "cell_type": "markdown",
   "id": "afb8cfff-434e-44a6-a5f7-0424e9526804",
   "metadata": {},
   "source": [
    "[NAICS codes](https://www.census.gov/naics/) (short for \"North American Industry Classification System\") is the standard used by federal statistical agencies in the US for classifying employers. When an employer submits LCAs or petitions to the USCIS they provide a NAICS code for their business. Normally this would serve as a convenient source of industry classification, but NAICS codes provided by employers could sometimes prove inconsistent or unexpected."
   ]
  },
  {
   "cell_type": "markdown",
   "id": "b5a98cd2-daaa-4ae7-8ef0-61d4219d0ed6",
   "metadata": {},
   "source": [
    "The top 100 H-1B companies have listed 4 different NAICS codes on average."
   ]
  },
  {
   "cell_type": "code",
   "execution_count": 12,
   "id": "90bd66ce-1e15-4891-9400-9e215def872e",
   "metadata": {},
   "outputs": [
    {
     "data": {
      "text/plain": [
       "NAICS Code    4.22\n",
       "dtype: float64"
      ]
     },
     "execution_count": 12,
     "metadata": {},
     "output_type": "execute_result"
    }
   ],
   "source": [
    "top_employers = (\n",
    "  uscis\n",
    "    .groupby('Employer')\n",
    "    .agg({'Total Petitions': 'sum'}) \n",
    "    .sort_values('Total Petitions', ascending=False)\n",
    "    .head(100)\n",
    ")\n",
    "\n",
    "(\n",
    "  top_employers\n",
    "    .join(uscis.set_index('Employer'), how='inner', validate='1:m', lsuffix='_left')\n",
    "    .groupby('Employer')\n",
    "    .agg({'NAICS Code': 'nunique'})\n",
    "    .agg({'NAICS Code': 'mean'})\n",
    ")"
   ]
  },
  {
   "cell_type": "markdown",
   "id": "f9e728af-c10a-4143-afdf-4342045db7eb",
   "metadata": {},
   "source": [
    "And some companies have provided unexpected NAICS codes. For instance, Apple is most commonly listed as \"Manufacturing\"; JPMorgan Chase is \"Management of Companies and Enterprises\"; and Microsoft is \"Information\"."
   ]
  },
  {
   "cell_type": "code",
   "execution_count": 13,
   "id": "fcff551c-813a-4cf2-a011-3e953cb105da",
   "metadata": {},
   "outputs": [
    {
     "data": {
      "text/plain": [
       "NAICS Code\n",
       "31-33 - Manufacturing                                    88\n",
       "54 - Professional, Scientific, and Technical Services     5\n",
       "51 - Information                                          3\n",
       "Name: count, dtype: int64"
      ]
     },
     "execution_count": 13,
     "metadata": {},
     "output_type": "execute_result"
    }
   ],
   "source": [
    "uscis.loc[uscis['Employer'] == 'Apple', 'NAICS Code'].value_counts()"
   ]
  },
  {
   "cell_type": "code",
   "execution_count": 14,
   "id": "396d3375-d028-4406-b164-aaa111c03e16",
   "metadata": {},
   "outputs": [
    {
     "data": {
      "text/plain": [
       "NAICS Code\n",
       "55 - Management of Companies and Enterprises                                     82\n",
       "51 - Information                                                                  8\n",
       "52 - Finance and Insurance                                                        6\n",
       "54 - Professional, Scientific, and Technical Services                             3\n",
       "11 - Agriculture, Forestry, Fishing and Hunting                                   1\n",
       "56 - Administrative and Support and Waste Management and Remediation Services     1\n",
       "Name: count, dtype: int64"
      ]
     },
     "execution_count": 14,
     "metadata": {},
     "output_type": "execute_result"
    }
   ],
   "source": [
    "uscis.loc[uscis['Employer'] == 'JPMorgan Chase', 'NAICS Code'].value_counts()"
   ]
  },
  {
   "cell_type": "code",
   "execution_count": 15,
   "id": "926a3ab1-704f-4028-931d-bf9f9b3aff00",
   "metadata": {},
   "outputs": [
    {
     "data": {
      "text/plain": [
       "NAICS Code\n",
       "51 - Information                                                                 128\n",
       "54 - Professional, Scientific, and Technical Services                             33\n",
       "61 - Educational Services                                                          9\n",
       "52 - Finance and Insurance                                                         5\n",
       "56 - Administrative and Support and Waste Management and Remediation Services      2\n",
       "31-33 - Manufacturing                                                              2\n",
       "21 - Mining, Quarrying, and Oil and Gas Extraction                                 2\n",
       "11 - Agriculture, Forestry, Fishing and Hunting                                    1\n",
       "62 - Health Care and Social Assistance                                             1\n",
       "Name: count, dtype: int64"
      ]
     },
     "execution_count": 15,
     "metadata": {},
     "output_type": "execute_result"
    }
   ],
   "source": [
    "uscis.loc[uscis['Employer'] == 'Microsoft', 'NAICS Code'].value_counts()"
   ]
  },
  {
   "cell_type": "markdown",
   "id": "8ec9ca0d-1203-458d-b245-c857f99bb5a7",
   "metadata": {},
   "source": [
    "It might be better to instead use industries / company groupings that are (1) consistent, and (2) represent a classification that is more commonly associated with the company."
   ]
  },
  {
   "cell_type": "markdown",
   "id": "4f612085-9e6f-4cbe-a792-1881916e47ed",
   "metadata": {},
   "source": [
    "## Industry categories"
   ]
  },
  {
   "cell_type": "markdown",
   "id": "46baa947-6428-463b-8a89-5f185e5fd00e",
   "metadata": {},
   "source": [
    "Industry categories come from [CompaniesMarketCap](https://companiesmarketcap.com/)"
   ]
  },
  {
   "cell_type": "markdown",
   "id": "2fda4a48-7d54-4993-948a-57f6229ebd92",
   "metadata": {},
   "source": [
    "How many technology companies are identified by CompaniesMarketCap?"
   ]
  },
  {
   "cell_type": "code",
   "execution_count": 16,
   "id": "90d7ef94-1119-4dbf-a74b-f07a2b88e8ac",
   "metadata": {},
   "outputs": [
    {
     "data": {
      "text/plain": [
       "tech    969.0\n",
       "dtype: float64"
      ]
     },
     "execution_count": 16,
     "metadata": {},
     "output_type": "execute_result"
    }
   ],
   "source": [
    "marketcap.agg({'tech': 'sum'})"
   ]
  },
  {
   "cell_type": "markdown",
   "id": "8d6b8b8b-854c-4fe0-be9d-e56c3bb6bd86",
   "metadata": {},
   "source": [
    "How many of those are in the USCIS H-1B data?"
   ]
  },
  {
   "cell_type": "code",
   "execution_count": 18,
   "id": "69dc11d1-c26b-4911-bdaf-8928f1dccd6b",
   "metadata": {},
   "outputs": [
    {
     "data": {
      "text/plain": [
       "tech                  137.0\n",
       "Total Petitions    581882.0\n",
       "dtype: float64"
      ]
     },
     "execution_count": 18,
     "metadata": {},
     "output_type": "execute_result"
    }
   ],
   "source": [
    "(\n",
    "  marketcap\n",
    "    .loc[marketcap['tech'] == 1, :]\n",
    "    .rename(columns={'Company': 'Employer'})\n",
    "    .merge(\n",
    "      uscis.groupby('Employer').agg({'Total Petitions': 'sum'}),\n",
    "      on='Employer',\n",
    "      validate='1:1'\n",
    "    )\n",
    "    .agg({\n",
    "      'tech': 'sum',\n",
    "      'Total Petitions': 'sum'\n",
    "    })\n",
    ")"
   ]
  },
  {
   "cell_type": "markdown",
   "id": "38b2c359-6632-47cb-925c-42f2814ac397",
   "metadata": {},
   "source": [
    "The list of outsourcing companies are taken from [previous](https://www.epi.org/blog/tech-and-outsourcing-companies-continue-to-exploit-the-h-1b-visa-program-at-a-time-of-mass-layoffs-the-top-30-h-1b-employers-hired-34000-new-h-1b-workers-in-2022-and-laid-off-at-least-85000-workers/) [analyses](https://www.nytimes.com/interactive/2015/11/06/us/outsourcing-companies-dominate-h1b-visas.html?smid=tw-share)."
   ]
  },
  {
   "cell_type": "markdown",
   "id": "87a4d6d1-224a-4d57-9268-a4c305a66245",
   "metadata": {},
   "source": [
    "How many outsourcing companies are identified in the data?"
   ]
  },
  {
   "cell_type": "code",
   "execution_count": 19,
   "id": "080683ea-8b85-4dd8-a79c-d9a5268e650f",
   "metadata": {},
   "outputs": [
    {
     "data": {
      "text/plain": [
       "outsourcing             31\n",
       "Total Petitions    1144522\n",
       "dtype: int64"
      ]
     },
     "execution_count": 19,
     "metadata": {},
     "output_type": "execute_result"
    }
   ],
   "source": [
    "(\n",
    "  employer_params\n",
    "    .loc[employer_params['outsourcing'] == 1, :]\n",
    "    .rename(columns={'employer': 'Employer'})\n",
    "    .merge(\n",
    "      uscis.groupby('Employer').agg({'Total Petitions': 'sum'}),\n",
    "      on='Employer',\n",
    "      validate='1:1'\n",
    "    )\n",
    "    .agg({\n",
    "      'outsourcing': 'sum',\n",
    "      'Total Petitions': 'sum'\n",
    "    })\n",
    ")"
   ]
  },
  {
   "cell_type": "markdown",
   "id": "1a6b5d57-c367-40f1-9482-45c86e234b69",
   "metadata": {},
   "source": [
    "How many outsourcing companies are in the \"IT Services\" or \"Professional Services\" industries?"
   ]
  },
  {
   "cell_type": "code",
   "execution_count": 23,
   "id": "542507d0-e7fa-4e4d-9cbc-03fa16be3429",
   "metadata": {
    "scrolled": true
   },
   "outputs": [
    {
     "data": {
      "text/html": [
       "<div>\n",
       "<style scoped>\n",
       "    .dataframe tbody tr th:only-of-type {\n",
       "        vertical-align: middle;\n",
       "    }\n",
       "\n",
       "    .dataframe tbody tr th {\n",
       "        vertical-align: top;\n",
       "    }\n",
       "\n",
       "    .dataframe thead th {\n",
       "        text-align: right;\n",
       "    }\n",
       "</style>\n",
       "<table border=\"1\" class=\"dataframe\">\n",
       "  <thead>\n",
       "    <tr style=\"text-align: right;\">\n",
       "      <th></th>\n",
       "      <th>employer</th>\n",
       "      <th>it_services</th>\n",
       "      <th>professional_services</th>\n",
       "    </tr>\n",
       "  </thead>\n",
       "  <tbody>\n",
       "    <tr>\n",
       "      <th>0</th>\n",
       "      <td>Accenture</td>\n",
       "      <td>0.0</td>\n",
       "      <td>1.0</td>\n",
       "    </tr>\n",
       "    <tr>\n",
       "      <th>1</th>\n",
       "      <td>Tata Consultancy Services</td>\n",
       "      <td>1.0</td>\n",
       "      <td>1.0</td>\n",
       "    </tr>\n",
       "    <tr>\n",
       "      <th>2</th>\n",
       "      <td>Cognizant Technology Solutions</td>\n",
       "      <td>1.0</td>\n",
       "      <td>1.0</td>\n",
       "    </tr>\n",
       "    <tr>\n",
       "      <th>3</th>\n",
       "      <td>Capgemini</td>\n",
       "      <td>1.0</td>\n",
       "      <td>1.0</td>\n",
       "    </tr>\n",
       "    <tr>\n",
       "      <th>4</th>\n",
       "      <td>NTT (Nippon Telegraph &amp; Telephone)</td>\n",
       "      <td>0.0</td>\n",
       "      <td>0.0</td>\n",
       "    </tr>\n",
       "    <tr>\n",
       "      <th>5</th>\n",
       "      <td>Infosys</td>\n",
       "      <td>1.0</td>\n",
       "      <td>1.0</td>\n",
       "    </tr>\n",
       "    <tr>\n",
       "      <th>6</th>\n",
       "      <td>IBM</td>\n",
       "      <td>0.0</td>\n",
       "      <td>0.0</td>\n",
       "    </tr>\n",
       "    <tr>\n",
       "      <th>7</th>\n",
       "      <td>Wipro</td>\n",
       "      <td>1.0</td>\n",
       "      <td>1.0</td>\n",
       "    </tr>\n",
       "    <tr>\n",
       "      <th>8</th>\n",
       "      <td>HCL Technologies</td>\n",
       "      <td>0.0</td>\n",
       "      <td>1.0</td>\n",
       "    </tr>\n",
       "    <tr>\n",
       "      <th>9</th>\n",
       "      <td>Tech Mahindra</td>\n",
       "      <td>1.0</td>\n",
       "      <td>1.0</td>\n",
       "    </tr>\n",
       "    <tr>\n",
       "      <th>10</th>\n",
       "      <td>CGI</td>\n",
       "      <td>0.0</td>\n",
       "      <td>1.0</td>\n",
       "    </tr>\n",
       "    <tr>\n",
       "      <th>11</th>\n",
       "      <td>LTIMindtree</td>\n",
       "      <td>1.0</td>\n",
       "      <td>1.0</td>\n",
       "    </tr>\n",
       "    <tr>\n",
       "      <th>12</th>\n",
       "      <td>Larsen &amp; Toubro</td>\n",
       "      <td>0.0</td>\n",
       "      <td>1.0</td>\n",
       "    </tr>\n",
       "    <tr>\n",
       "      <th>13</th>\n",
       "      <td>Randstad</td>\n",
       "      <td>0.0</td>\n",
       "      <td>1.0</td>\n",
       "    </tr>\n",
       "    <tr>\n",
       "      <th>14</th>\n",
       "      <td>Mphasis</td>\n",
       "      <td>1.0</td>\n",
       "      <td>1.0</td>\n",
       "    </tr>\n",
       "    <tr>\n",
       "      <th>15</th>\n",
       "      <td>Kforce</td>\n",
       "      <td>0.0</td>\n",
       "      <td>1.0</td>\n",
       "    </tr>\n",
       "    <tr>\n",
       "      <th>16</th>\n",
       "      <td>L&amp;T Technology Services</td>\n",
       "      <td>0.0</td>\n",
       "      <td>1.0</td>\n",
       "    </tr>\n",
       "  </tbody>\n",
       "</table>\n",
       "</div>"
      ],
      "text/plain": [
       "                              employer  it_services  professional_services\n",
       "0                            Accenture          0.0                    1.0\n",
       "1            Tata Consultancy Services          1.0                    1.0\n",
       "2       Cognizant Technology Solutions          1.0                    1.0\n",
       "3                            Capgemini          1.0                    1.0\n",
       "4   NTT (Nippon Telegraph & Telephone)          0.0                    0.0\n",
       "5                              Infosys          1.0                    1.0\n",
       "6                                  IBM          0.0                    0.0\n",
       "7                                Wipro          1.0                    1.0\n",
       "8                     HCL Technologies          0.0                    1.0\n",
       "9                        Tech Mahindra          1.0                    1.0\n",
       "10                                 CGI          0.0                    1.0\n",
       "11                         LTIMindtree          1.0                    1.0\n",
       "12                     Larsen & Toubro          0.0                    1.0\n",
       "13                            Randstad          0.0                    1.0\n",
       "14                             Mphasis          1.0                    1.0\n",
       "15                              Kforce          0.0                    1.0\n",
       "16             L&T Technology Services          0.0                    1.0"
      ]
     },
     "execution_count": 23,
     "metadata": {},
     "output_type": "execute_result"
    }
   ],
   "source": [
    "(\n",
    "  employer_params\n",
    "    .loc[employer_params['outsourcing'] == 1, :]\n",
    "    .merge(marketcap, left_on='employer', right_on='Company', how='inner', validate='1:1')\n",
    "    .loc[: , ['employer', 'it_services', 'professional_services']]\n",
    ")"
   ]
  },
  {
   "cell_type": "code",
   "execution_count": 24,
   "id": "49e6b7f9-bc06-463b-af4f-67a4e6f2d58e",
   "metadata": {},
   "outputs": [
    {
     "data": {
      "text/plain": [
       "it_services  professional_services\n",
       "1.0          1.0                      8\n",
       "0.0          1.0                      7\n",
       "             0.0                      2\n",
       "Name: count, dtype: int64"
      ]
     },
     "execution_count": 24,
     "metadata": {},
     "output_type": "execute_result"
    }
   ],
   "source": [
    "(\n",
    "  employer_params\n",
    "    .loc[employer_params['outsourcing'] == 1, :]\n",
    "    .merge(marketcap, left_on='employer', right_on='Company', how='inner', validate='1:1')\n",
    "    .loc[: , ['it_services', 'professional_services']]\n",
    "    .value_counts(dropna=False)\n",
    ")"
   ]
  },
  {
   "cell_type": "markdown",
   "id": "f5af7bdd-11aa-4ab1-8ffc-4f71c9ccef40",
   "metadata": {},
   "source": [
    "IBM is in both the \"tech\" and \"outsourcing\" categories. To remain consistent with previous analysis, IBM is categorized as an outsourcing company and not a tech company."
   ]
  },
  {
   "cell_type": "code",
   "execution_count": 26,
   "id": "dc198db7-b984-4daf-9c40-e16b6ccddd61",
   "metadata": {},
   "outputs": [
    {
     "data": {
      "text/html": [
       "<div>\n",
       "<style scoped>\n",
       "    .dataframe tbody tr th:only-of-type {\n",
       "        vertical-align: middle;\n",
       "    }\n",
       "\n",
       "    .dataframe tbody tr th {\n",
       "        vertical-align: top;\n",
       "    }\n",
       "\n",
       "    .dataframe thead th {\n",
       "        text-align: right;\n",
       "    }\n",
       "</style>\n",
       "<table border=\"1\" class=\"dataframe\">\n",
       "  <thead>\n",
       "    <tr style=\"text-align: right;\">\n",
       "      <th></th>\n",
       "      <th>Company</th>\n",
       "      <th>Country</th>\n",
       "      <th>Employees</th>\n",
       "      <th>it_services</th>\n",
       "      <th>professional_services</th>\n",
       "      <th>artificial_intelligence</th>\n",
       "      <th>software</th>\n",
       "      <th>semiconductors</th>\n",
       "      <th>tech</th>\n",
       "    </tr>\n",
       "  </thead>\n",
       "  <tbody>\n",
       "    <tr>\n",
       "      <th>79</th>\n",
       "      <td>IBM</td>\n",
       "      <td>United States</td>\n",
       "      <td>282200</td>\n",
       "      <td>0.0</td>\n",
       "      <td>0.0</td>\n",
       "      <td>1.0</td>\n",
       "      <td>1.0</td>\n",
       "      <td>0.0</td>\n",
       "      <td>1.0</td>\n",
       "    </tr>\n",
       "  </tbody>\n",
       "</table>\n",
       "</div>"
      ],
      "text/plain": [
       "   Company        Country  Employees  it_services  professional_services  \\\n",
       "79     IBM  United States     282200          0.0                    0.0   \n",
       "\n",
       "    artificial_intelligence  software  semiconductors  tech  \n",
       "79                      1.0       1.0             0.0   1.0  "
      ]
     },
     "execution_count": 26,
     "metadata": {},
     "output_type": "execute_result"
    }
   ],
   "source": [
    "marketcap[marketcap['Company'] == 'IBM']"
   ]
  },
  {
   "cell_type": "markdown",
   "id": "fa4b2c5d-737a-4a76-b391-a46d370058ca",
   "metadata": {},
   "source": [
    "For more data analysis, see the [H-1B Tech notebook](https://github.com/nikhilgahlawat/immigration-h1b/blob/main/src/analysis/h1b_tech.ipynb)."
   ]
  },
  {
   "cell_type": "code",
   "execution_count": null,
   "id": "d841eae2-70f8-4687-b4a8-22c8306b7667",
   "metadata": {},
   "outputs": [],
   "source": []
  }
 ],
 "metadata": {
  "kernelspec": {
   "display_name": "Python 3 (ipykernel)",
   "language": "python",
   "name": "python3"
  },
  "language_info": {
   "codemirror_mode": {
    "name": "ipython",
    "version": 3
   },
   "file_extension": ".py",
   "mimetype": "text/x-python",
   "name": "python",
   "nbconvert_exporter": "python",
   "pygments_lexer": "ipython3",
   "version": "3.12.2"
  }
 },
 "nbformat": 4,
 "nbformat_minor": 5
}
